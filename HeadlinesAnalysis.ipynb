{
 "cells": [
  {
   "cell_type": "code",
   "execution_count": 1,
   "metadata": {},
   "outputs": [],
   "source": [
    "import pandas as pd\n",
    "\n",
    "from scripts.downloader import DownloaderAktualne, DownloaderIdnes"
   ]
  },
  {
   "cell_type": "code",
   "execution_count": 2,
   "metadata": {},
   "outputs": [],
   "source": [
    "### Downloading the articles\n",
    "# Config\n",
    "url_aktualne = \"https://zpravy.aktualne.cz/domaci/\"\n",
    "url_idnes = \"https://www.idnes.cz/zpravy/domaci/\"\n",
    "\n",
    "path_aktualne = \"data/articles_Aktualne.cz.csv\"\n",
    "path_idnes = \"data/articles_iDnes.cz.csv\""
   ]
  },
  {
   "cell_type": "code",
   "execution_count": 3,
   "metadata": {},
   "outputs": [
    {
     "name": "stdout",
     "output_type": "stream",
     "text": [
      "Succesfully initialized DownloaderAktualne.\n",
      "Succesfully initialized DownloaderIdnes.\n"
     ]
    }
   ],
   "source": [
    "# Init verbose DownloaderAktualne and DownloaderIdnes\n",
    "d_aktualne = DownloaderAktualne(url_aktualne, save_to=path_aktualne, verbose=True)\n",
    "d_idnes = DownloaderIdnes(url_idnes, save_to=path_idnes, verbose=True)"
   ]
  },
  {
   "cell_type": "code",
   "execution_count": 18,
   "metadata": {},
   "outputs": [
    {
     "data": {
      "text/html": [
       "<div>\n",
       "<style scoped>\n",
       "    .dataframe tbody tr th:only-of-type {\n",
       "        vertical-align: middle;\n",
       "    }\n",
       "\n",
       "    .dataframe tbody tr th {\n",
       "        vertical-align: top;\n",
       "    }\n",
       "\n",
       "    .dataframe thead th {\n",
       "        text-align: right;\n",
       "    }\n",
       "</style>\n",
       "<table border=\"1\" class=\"dataframe\">\n",
       "  <thead>\n",
       "    <tr style=\"text-align: right;\">\n",
       "      <th></th>\n",
       "      <th>article_id</th>\n",
       "      <th>slug</th>\n",
       "      <th>date</th>\n",
       "      <th>time</th>\n",
       "      <th>is_updated</th>\n",
       "      <th>headline</th>\n",
       "      <th>excerpt</th>\n",
       "      <th>article_url</th>\n",
       "      <th>scraped_at</th>\n",
       "    </tr>\n",
       "  </thead>\n",
       "  <tbody>\n",
       "    <tr>\n",
       "      <th>100</th>\n",
       "      <td>r~dacd863c832511eaaabd0cc47ab5f122</td>\n",
       "      <td>jak-se-spojit-s-prateli-sledovat-filmy-zaplati...</td>\n",
       "      <td>2020-05-05</td>\n",
       "      <td>17:19:00</td>\n",
       "      <td>False</td>\n",
       "      <td>Jak se spojit s přáteli, zaplatit nákup či sle...</td>\n",
       "      <td>Aktuálně.cz nabízí přehled, jak z domova pohod...</td>\n",
       "      <td>https://zpravy.aktualne.cz/domaci/jak-se-spoji...</td>\n",
       "      <td>07-05-2020 22:38:53</td>\n",
       "    </tr>\n",
       "    <tr>\n",
       "      <th>101</th>\n",
       "      <td>r~02c1d02a8ed511eaa6f6ac1f6b220ee8</td>\n",
       "      <td>cesko-pozadalo-rusy-o-jednani-podle-smlouvy</td>\n",
       "      <td>2020-05-05</td>\n",
       "      <td>17:19:00</td>\n",
       "      <td>True</td>\n",
       "      <td>Opozice chtěla jednat o chování Ruska. Je to p...</td>\n",
       "      <td>Ukázalo se jasně, kdo je kdo, kritizuje postoj...</td>\n",
       "      <td>https://zpravy.aktualne.cz/domaci/cesko-pozada...</td>\n",
       "      <td>07-05-2020 22:38:53</td>\n",
       "    </tr>\n",
       "    <tr>\n",
       "      <th>40</th>\n",
       "      <td>A200506_095011_brno-zpravy_krut</td>\n",
       "      <td>vychodni-populismus-panslovanstvi-propaganda-v...</td>\n",
       "      <td>2020-05-06</td>\n",
       "      <td>11:39:00</td>\n",
       "      <td>False</td>\n",
       "      <td>Vědci se zaměří na panslovanský populismus, př...</td>\n",
       "      <td>Panslovanský nacionalistický populismus v posl...</td>\n",
       "      <td>https://www.idnes.cz/brno/zpravy/vychodni-popu...</td>\n",
       "      <td>07-05-2020 22:34:21</td>\n",
       "    </tr>\n",
       "    <tr>\n",
       "      <th>41</th>\n",
       "      <td>A200506_101930_liberec-zpravy_jape</td>\n",
       "      <td>hejtman-liberecky-kraj-martin-puta-soud-zavere...</td>\n",
       "      <td>2020-05-06</td>\n",
       "      <td>11:19:00</td>\n",
       "      <td>False</td>\n",
       "      <td>Soud o úplatku spěje do finále, hejtman v závě...</td>\n",
       "      <td>Vzal hejtman Libereckého kraje Martin Půta úpl...</td>\n",
       "      <td>https://www.idnes.cz/liberec/zpravy/hejtman-li...</td>\n",
       "      <td>07-05-2020 22:34:21</td>\n",
       "    </tr>\n",
       "  </tbody>\n",
       "</table>\n",
       "</div>"
      ],
      "text/plain": [
       "                             article_id  \\\n",
       "100  r~dacd863c832511eaaabd0cc47ab5f122   \n",
       "101  r~02c1d02a8ed511eaa6f6ac1f6b220ee8   \n",
       "40      A200506_095011_brno-zpravy_krut   \n",
       "41   A200506_101930_liberec-zpravy_jape   \n",
       "\n",
       "                                                  slug        date      time  \\\n",
       "100  jak-se-spojit-s-prateli-sledovat-filmy-zaplati...  2020-05-05  17:19:00   \n",
       "101        cesko-pozadalo-rusy-o-jednani-podle-smlouvy  2020-05-05  17:19:00   \n",
       "40   vychodni-populismus-panslovanstvi-propaganda-v...  2020-05-06  11:39:00   \n",
       "41   hejtman-liberecky-kraj-martin-puta-soud-zavere...  2020-05-06  11:19:00   \n",
       "\n",
       "     is_updated                                           headline  \\\n",
       "100       False  Jak se spojit s přáteli, zaplatit nákup či sle...   \n",
       "101        True  Opozice chtěla jednat o chování Ruska. Je to p...   \n",
       "40        False  Vědci se zaměří na panslovanský populismus, př...   \n",
       "41        False  Soud o úplatku spěje do finále, hejtman v závě...   \n",
       "\n",
       "                                               excerpt  \\\n",
       "100  Aktuálně.cz nabízí přehled, jak z domova pohod...   \n",
       "101  Ukázalo se jasně, kdo je kdo, kritizuje postoj...   \n",
       "40   Panslovanský nacionalistický populismus v posl...   \n",
       "41   Vzal hejtman Libereckého kraje Martin Půta úpl...   \n",
       "\n",
       "                                           article_url           scraped_at  \n",
       "100  https://zpravy.aktualne.cz/domaci/jak-se-spoji...  07-05-2020 22:38:53  \n",
       "101  https://zpravy.aktualne.cz/domaci/cesko-pozada...  07-05-2020 22:38:53  \n",
       "40   https://www.idnes.cz/brno/zpravy/vychodni-popu...  07-05-2020 22:34:21  \n",
       "41   https://www.idnes.cz/liberec/zpravy/hejtman-li...  07-05-2020 22:34:21  "
      ]
     },
     "execution_count": 18,
     "metadata": {},
     "output_type": "execute_result"
    }
   ],
   "source": [
    "# Download demo\n",
    "#d_aktualne.downloadHeadlines(from_page = 1, to_page = 5, bulk_size = 40)\n",
    "d_aktualne.articles_df[100:103]\n",
    "#d_aktualne.saveToCsv()\n",
    "\n",
    "#d_idnes.downloadHeadlines(from_page = 1, to_page = 2, bulk_size = 40)\n",
    "d_idnes.articles_df[100:103]\n",
    "#d_idnes.saveToCsv()\n",
    "\n",
    "pd.concat([d_aktualne.articles_df[100:102], d_idnes.articles_df[40:42]])"
   ]
  },
  {
   "cell_type": "code",
   "execution_count": 19,
   "metadata": {},
   "outputs": [],
   "source": [
    "articles = pd.read_csv(path_idnes)"
   ]
  },
  {
   "cell_type": "code",
   "execution_count": 20,
   "metadata": {},
   "outputs": [],
   "source": [
    "### Headlines Analysis"
   ]
  },
  {
   "cell_type": "code",
   "execution_count": 21,
   "metadata": {},
   "outputs": [
    {
     "name": "stdout",
     "output_type": "stream",
     "text": [
      "Checking whether there is an H2O instance running at http://localhost:54321 ..... not found.\n",
      "Attempting to start a local H2O server...\n",
      "  Java Version: java version \"13.0.2\" 2020-01-14; Java(TM) SE Runtime Environment (build 13.0.2+8); Java HotSpot(TM) 64-Bit Server VM (build 13.0.2+8, mixed mode, sharing)\n",
      "  Starting server from /anaconda3/lib/python3.7/site-packages/h2o/backend/bin/h2o.jar\n",
      "  Ice root: /var/folders/c4/jxchjt990lg9002_rg92j8tr0000gn/T/tmphrky5mpo\n",
      "  JVM stdout: /var/folders/c4/jxchjt990lg9002_rg92j8tr0000gn/T/tmphrky5mpo/h2o_simon_started_from_python.out\n",
      "  JVM stderr: /var/folders/c4/jxchjt990lg9002_rg92j8tr0000gn/T/tmphrky5mpo/h2o_simon_started_from_python.err\n",
      "  Server is running at http://127.0.0.1:54321\n",
      "Connecting to H2O server at http://127.0.0.1:54321 ... successful.\n"
     ]
    },
    {
     "data": {
      "text/html": [
       "<div style=\"overflow:auto\"><table style=\"width:50%\"><tr><td>H2O_cluster_uptime:</td>\n",
       "<td>03 secs</td></tr>\n",
       "<tr><td>H2O_cluster_timezone:</td>\n",
       "<td>Europe/Prague</td></tr>\n",
       "<tr><td>H2O_data_parsing_timezone:</td>\n",
       "<td>UTC</td></tr>\n",
       "<tr><td>H2O_cluster_version:</td>\n",
       "<td>3.30.0.1</td></tr>\n",
       "<tr><td>H2O_cluster_version_age:</td>\n",
       "<td>1 month and 4 days </td></tr>\n",
       "<tr><td>H2O_cluster_name:</td>\n",
       "<td>H2O_from_python_simon_w4fsj3</td></tr>\n",
       "<tr><td>H2O_cluster_total_nodes:</td>\n",
       "<td>1</td></tr>\n",
       "<tr><td>H2O_cluster_free_memory:</td>\n",
       "<td>2 Gb</td></tr>\n",
       "<tr><td>H2O_cluster_total_cores:</td>\n",
       "<td>4</td></tr>\n",
       "<tr><td>H2O_cluster_allowed_cores:</td>\n",
       "<td>4</td></tr>\n",
       "<tr><td>H2O_cluster_status:</td>\n",
       "<td>accepting new members, healthy</td></tr>\n",
       "<tr><td>H2O_connection_url:</td>\n",
       "<td>http://127.0.0.1:54321</td></tr>\n",
       "<tr><td>H2O_connection_proxy:</td>\n",
       "<td>{\"http\": null, \"https\": null}</td></tr>\n",
       "<tr><td>H2O_internal_security:</td>\n",
       "<td>False</td></tr>\n",
       "<tr><td>H2O_API_Extensions:</td>\n",
       "<td>Amazon S3, XGBoost, Algos, AutoML, Core V3, TargetEncoder, Core V4</td></tr>\n",
       "<tr><td>Python_version:</td>\n",
       "<td>3.7.3 final</td></tr></table></div>"
      ],
      "text/plain": [
       "--------------------------  ------------------------------------------------------------------\n",
       "H2O_cluster_uptime:         03 secs\n",
       "H2O_cluster_timezone:       Europe/Prague\n",
       "H2O_data_parsing_timezone:  UTC\n",
       "H2O_cluster_version:        3.30.0.1\n",
       "H2O_cluster_version_age:    1 month and 4 days\n",
       "H2O_cluster_name:           H2O_from_python_simon_w4fsj3\n",
       "H2O_cluster_total_nodes:    1\n",
       "H2O_cluster_free_memory:    2 Gb\n",
       "H2O_cluster_total_cores:    4\n",
       "H2O_cluster_allowed_cores:  4\n",
       "H2O_cluster_status:         accepting new members, healthy\n",
       "H2O_connection_url:         http://127.0.0.1:54321\n",
       "H2O_connection_proxy:       {\"http\": null, \"https\": null}\n",
       "H2O_internal_security:      False\n",
       "H2O_API_Extensions:         Amazon S3, XGBoost, Algos, AutoML, Core V3, TargetEncoder, Core V4\n",
       "Python_version:             3.7.3 final\n",
       "--------------------------  ------------------------------------------------------------------"
      ]
     },
     "metadata": {},
     "output_type": "display_data"
    }
   ],
   "source": [
    "# Word2vec model\n",
    "import h2o\n",
    "h2o.init()\n",
    "from h2o.estimators.word2vec import H2OWord2vecEstimator\n",
    "from h2o.estimators.gbm import H2OGradientBoostingEstimator"
   ]
  },
  {
   "cell_type": "code",
   "execution_count": 22,
   "metadata": {},
   "outputs": [
    {
     "name": "stdout",
     "output_type": "stream",
     "text": [
      "Parse progress: |█████████████████████████████████████████████████████████| 100%\n"
     ]
    },
    {
     "data": {
      "text/html": [
       "<div>\n",
       "<style scoped>\n",
       "    .dataframe tbody tr th:only-of-type {\n",
       "        vertical-align: middle;\n",
       "    }\n",
       "\n",
       "    .dataframe tbody tr th {\n",
       "        vertical-align: top;\n",
       "    }\n",
       "\n",
       "    .dataframe thead th {\n",
       "        text-align: right;\n",
       "    }\n",
       "</style>\n",
       "<table border=\"1\" class=\"dataframe\">\n",
       "  <thead>\n",
       "    <tr style=\"text-align: right;\">\n",
       "      <th></th>\n",
       "      <th>source</th>\n",
       "      <th>headline</th>\n",
       "    </tr>\n",
       "  </thead>\n",
       "  <tbody>\n",
       "    <tr>\n",
       "      <th>0</th>\n",
       "      <td>Aktualne.cz</td>\n",
       "      <td>Další nouzový stav už nebude, ujistil Babiš. O...</td>\n",
       "    </tr>\n",
       "    <tr>\n",
       "      <th>1</th>\n",
       "      <td>Aktualne.cz</td>\n",
       "      <td>Uvolňování opatření je chaotické, míní Kubek. ...</td>\n",
       "    </tr>\n",
       "    <tr>\n",
       "      <th>2</th>\n",
       "      <td>Aktualne.cz</td>\n",
       "      <td>Běžte k lékařům, jinak nás čeká podzim rakovin...</td>\n",
       "    </tr>\n",
       "    <tr>\n",
       "      <th>3</th>\n",
       "      <td>Aktualne.cz</td>\n",
       "      <td>Kolik je potvrzených nakažených v krajích? Akt...</td>\n",
       "    </tr>\n",
       "    <tr>\n",
       "      <th>4</th>\n",
       "      <td>Aktualne.cz</td>\n",
       "      <td>Za podnikatele zaplatíme minimálně třetinu náj...</td>\n",
       "    </tr>\n",
       "    <tr>\n",
       "      <th>3123</th>\n",
       "      <td>iDnes.cz</td>\n",
       "      <td>David Černý navrhl most ve tvaru lokomotivy, s...</td>\n",
       "    </tr>\n",
       "    <tr>\n",
       "      <th>3124</th>\n",
       "      <td>iDnes.cz</td>\n",
       "      <td>Současný způsob ochrany vlků je proti zdravému...</td>\n",
       "    </tr>\n",
       "    <tr>\n",
       "      <th>3125</th>\n",
       "      <td>iDnes.cz</td>\n",
       "      <td>Meteorologové varují před vichrem a mokrým sně...</td>\n",
       "    </tr>\n",
       "    <tr>\n",
       "      <th>3126</th>\n",
       "      <td>iDnes.cz</td>\n",
       "      <td>Nádraží Vyšehrad chce Praha koupit, nebo vyvla...</td>\n",
       "    </tr>\n",
       "    <tr>\n",
       "      <th>3127</th>\n",
       "      <td>iDnes.cz</td>\n",
       "      <td>Obvinění manažeři MPSV do vazby nepůjdou, poli...</td>\n",
       "    </tr>\n",
       "  </tbody>\n",
       "</table>\n",
       "</div>"
      ],
      "text/plain": [
       "           source                                           headline\n",
       "0     Aktualne.cz  Další nouzový stav už nebude, ujistil Babiš. O...\n",
       "1     Aktualne.cz  Uvolňování opatření je chaotické, míní Kubek. ...\n",
       "2     Aktualne.cz  Běžte k lékařům, jinak nás čeká podzim rakovin...\n",
       "3     Aktualne.cz  Kolik je potvrzených nakažených v krajích? Akt...\n",
       "4     Aktualne.cz  Za podnikatele zaplatíme minimálně třetinu náj...\n",
       "3123     iDnes.cz  David Černý navrhl most ve tvaru lokomotivy, s...\n",
       "3124     iDnes.cz  Současný způsob ochrany vlků je proti zdravému...\n",
       "3125     iDnes.cz  Meteorologové varují před vichrem a mokrým sně...\n",
       "3126     iDnes.cz  Nádraží Vyšehrad chce Praha koupit, nebo vyvla...\n",
       "3127     iDnes.cz  Obvinění manažeři MPSV do vazby nepůjdou, poli..."
      ]
     },
     "execution_count": 22,
     "metadata": {},
     "output_type": "execute_result"
    }
   ],
   "source": [
    "# Importing Aktualne.cz headlines\n",
    "headlines_aktualne = pd.read_csv(path_aktualne, usecols=[\"headline\"], encoding=\"utf-8\")\n",
    "headlines_aktualne.insert(0, \"source\", \"Aktualne.cz\")\n",
    "\n",
    "# Importing iDnes.cz headlines\n",
    "headlines_idnes = pd.read_csv(path_idnes, usecols=[\"headline\"], encoding=\"utf-8\")\n",
    "headlines_idnes.insert(0, \"source\", \"iDnes.cz\")\n",
    "\n",
    "# Concat headlines\n",
    "df_headlines = pd.concat([headlines_aktualne, headlines_idnes], ignore_index=True)\n",
    "\n",
    "# Convert pd.DataFrame to H2O DataFrame\n",
    "headlines = h2o.H2OFrame(df_headlines)\n",
    "\n",
    "# Check data\n",
    "pd.concat([df_headlines[:5], df_headlines[-5:]])"
   ]
  },
  {
   "cell_type": "code",
   "execution_count": 23,
   "metadata": {},
   "outputs": [],
   "source": [
    "# Defines the stopwords\n",
    "STOP_WORDS = [\"\", \"ačkoli\",\"ahoj\",\"ale\",\"anebo\",\"ano\",\"asi\",\"aspoň\",\"během\",\"bez\",\"beze\",\"blízko\",\"bohužel\",\"brzo\",\"bude\",\"budeme\",\"budeš\",\"budete\",\"budou\",\"budu\",\"byl\",\"byla\",\"byli\",\"bylo\",\"byly\",\"bys\",\"čau\",\"chce\",\"chceme\",\"chceš\",\"chcete\",\"chci\",\"chtějí\",\"chtít\",\"chut\\u0027\",\"chuti\",\"co\",\"čtrnáct\",\"čtyři\",\"dál\",\"dále\",\"daleko\",\"děkovat\",\"děkujeme\",\"děkuji\",\"den\",\"deset\",\"devatenáct\",\"devět\",\"do\",\"dobrý\",\"docela\",\"dva\",\"dvacet\",\"dvanáct\",\"dvě\",\"hodně\",\"já\",\"jak\",\"jde\",\"je\",\"jeden\",\"jedenáct\",\"jedna\",\"jedno\",\"jednou\",\"jedou\",\"jeho\",\"její\",\"jejich\",\"jemu\",\"jen\",\"jenom\",\"ještě\",\"jestli\",\"jestliže\",\"jí\",\"jich\",\"jím\",\"jimi\",\"jinak\",\"jsem\",\"jsi\",\"jsme\",\"jsou\",\"jste\",\"kam\",\"kde\",\"kdo\",\"kdy\",\"když\",\"ke\",\"kolik\",\"kromě\",\"která\",\"které\",\"kteří\",\"který\",\"kvůli\",\"má\",\"mají\",\"málo\",\"mám\",\"máme\",\"máš\",\"máte\",\"mé\",\"mě\",\"mezi\",\"mí\",\"mít\",\"mně\",\"mnou\",\"moc\",\"mohl\",\"mohou\",\"moje\",\"moji\",\"možná\",\"můj\",\"musí\",\"může\",\"my\",\"na\",\"nad\",\"nade\",\"nám\",\"námi\",\"naproti\",\"nás\",\"náš\",\"naše\",\"naši\",\"ne\",\"ně\",\"nebo\",\"nebyl\",\"nebyla\",\"nebyli\",\"nebyly\",\"něco\",\"nedělá\",\"nedělají\",\"nedělám\",\"neděláme\",\"neděláš\",\"neděláte\",\"nějak\",\"nejsi\",\"někde\",\"někdo\",\"nemají\",\"nemáme\",\"nemáte\",\"neměl\",\"němu\",\"není\",\"nestačí\",\"nevadí\",\"než\",\"nic\",\"nich\",\"ním\",\"nimi\",\"nula\",\"od\",\"ode\",\"on\",\"ona\",\"oni\",\"ono\",\"ony\",\"osm\",\"osmnáct\",\"pak\",\"patnáct\",\"pět\",\"po\",\"pořád\",\"potom\",\"pozdě\",\"před\",\"přes\",\"přese\",\"pro\",\"proč\",\"prosím\",\"prostě\",\"proti\",\"protože\",\"rovně\",\"se\",\"sedm\",\"sedmnáct\",\"šest\",\"šestnáct\",\"skoro\",\"smějí\",\"smí\",\"snad\",\"spolu\",\"sta\",\"sté\",\"sto\",\"ta\",\"tady\",\"tak\",\"takhle\",\"taky\",\"tam\",\"tamhle\",\"tamhleto\",\"tamto\",\"tě\",\"tebe\",\"tebou\",\"ted\\u0027\",\"tedy\",\"ten\",\"ti\",\"tisíc\",\"tisíce\",\"to\",\"tobě\",\"tohle\",\"toto\",\"třeba\",\"tři\",\"třináct\",\"trošku\",\"tvá\",\"tvé\",\"tvoje\",\"tvůj\",\"ty\",\"určitě\",\"už\",\"vám\",\"vámi\",\"vás\",\"váš\",\"vaše\",\"vaši\",\"ve\",\"večer\",\"vedle\",\"vlastně\",\"všechno\",\"všichni\",\"vůbec\",\"vy\",\"vždy\",\"za\",\"zač\",\"zatímco\",\"ze\",\"že\",\"aby\",\"aj\",\"ani\",\"az\",\"budem\",\"budes\",\"by\",\"byt\",\"ci\",\"clanek\",\"clanku\",\"clanky\",\"coz\",\"cz\",\"dalsi\",\"design\",\"dnes\",\"email\",\"ho\",\"jako\",\"jej\",\"jeji\",\"jeste\",\"ji\",\"jine\",\"jiz\",\"jses\",\"kdyz\",\"ktera\",\"ktere\",\"kteri\",\"kterou\",\"ktery\",\"ma\",\"mate\",\"mi\",\"mit\",\"muj\",\"muze\",\"nam\",\"napiste\",\"nas\",\"nasi\",\"nejsou\",\"neni\",\"nez\",\"nove\",\"novy\",\"pod\",\"podle\",\"pokud\",\"pouze\",\"prave\",\"pred\",\"pres\",\"pri\",\"proc\",\"proto\",\"protoze\",\"prvni\",\"pta\",\"re\",\"si\",\"strana\",\"sve\",\"svych\",\"svym\",\"svymi\",\"take\",\"takze\",\"tato\",\"tema\",\"tento\",\"teto\",\"tim\",\"timto\",\"tipy\",\"toho\",\"tohoto\",\"tom\",\"tomto\",\"tomuto\",\"tu\",\"tuto\",\"tyto\",\"uz\",\"vam\",\"vas\",\"vase\",\"vice\",\"vsak\",\"zda\",\"zde\",\"zpet\",\"zpravy\",\"a\",\"aniž\",\"až\",\"být\",\"což\",\"či\",\"článek\",\"článku\",\"články\",\"další\",\"i\",\"jenž\",\"jiné\",\"již\",\"jseš\",\"jšte\",\"k\",\"každý\",\"kteři\",\"ku\",\"me\",\"ná\",\"napište\",\"nechť\",\"ní\",\"nové\",\"nový\",\"o\",\"práve\",\"první\",\"přede\",\"při\",\"s\",\"sice\",\"své\",\"svůj\",\"svých\",\"svým\",\"svými\",\"také\",\"takže\",\"te\",\"těma\",\"této\",\"tím\",\"tímto\",\"u\",\"v\",\"více\",\"však\",\"všechen\",\"z\",\"zpět\",\"zprávy\"]\n",
    "import re\n",
    "# Handles the tokenization\n",
    "def tokenize(sentences, stop_word = STOP_WORDS):\n",
    "    # Handlig Czech chracters, seperate by space instead of regex \"\\\\W+\"\n",
    "    tokenized = sentences.tokenize(\" \")\n",
    "    tokenized = tokenized.rstrip()\n",
    "    tokenized = tokenized.rstrip(\".\")\n",
    "    tokenized = tokenized.rstrip(\",\")\n",
    "    tokenized = tokenized.rstrip(\"!\")\n",
    "    tokenized = tokenized.rstrip(\"?\")\n",
    "    tokenized = tokenized.rstrip(\"-\")\n",
    "\n",
    "    tokenized_cleaned = tokenized\n",
    "    tokenized_lower = tokenized.tolower()\n",
    "    tokenized_filtered = tokenized_lower[(tokenized_lower.nchar() >= 2) | (tokenized_lower.isna()),:]\n",
    "    tokenized_words = tokenized_filtered[tokenized_filtered.grep(\"[0-9]\",invert=True,output_logical=True),:]\n",
    "    tokenized_words = tokenized_words[(tokenized_words.isna()) | (~ tokenized_words.isin(STOP_WORDS)),:]\n",
    "    return tokenized_words"
   ]
  },
  {
   "cell_type": "code",
   "execution_count": 24,
   "metadata": {},
   "outputs": [
    {
     "data": {
      "text/html": [
       "<table>\n",
       "<thead>\n",
       "<tr><th>C1           </th></tr>\n",
       "</thead>\n",
       "<tbody>\n",
       "<tr><td>nouzový      </td></tr>\n",
       "<tr><td>stav         </td></tr>\n",
       "<tr><td>nebude       </td></tr>\n",
       "<tr><td>ujistil      </td></tr>\n",
       "<tr><td>babiš        </td></tr>\n",
       "<tr><td>opatření     </td></tr>\n",
       "<tr><td>resortu      </td></tr>\n",
       "<tr><td>zdravotnictví</td></tr>\n",
       "<tr><td>             </td></tr>\n",
       "<tr><td>uvolňování   </td></tr>\n",
       "</tbody>\n",
       "</table>"
      ]
     },
     "metadata": {},
     "output_type": "display_data"
    },
    {
     "data": {
      "text/plain": [
       "<bound method H2OFrame.describe of >"
      ]
     },
     "execution_count": 24,
     "metadata": {},
     "output_type": "execute_result"
    }
   ],
   "source": [
    "# Breaks down the string to sequence of words\n",
    "words = tokenize(headlines[\"headline\"])\n",
    "words.describe"
   ]
  },
  {
   "cell_type": "code",
   "execution_count": 25,
   "metadata": {},
   "outputs": [
    {
     "name": "stdout",
     "output_type": "stream",
     "text": [
      "word2vec Model Build progress: |██████████████████████████████████████████| 100%\n"
     ]
    }
   ],
   "source": [
    "# Builds word2vec model\n",
    "w2v_model = H2OWord2vecEstimator(sent_sample_rate = 0.0, epochs = 10)\n",
    "w2v_model.train(training_frame=words)"
   ]
  },
  {
   "cell_type": "code",
   "execution_count": 26,
   "metadata": {},
   "outputs": [
    {
     "data": {
      "text/plain": [
       "OrderedDict([('babiš', 0.9039709568023682),\n",
       "             ('hamáček', 0.8778977990150452),\n",
       "             ('vojtěch', 0.8263100981712341),\n",
       "             ('zvažuje', 0.8150015473365784),\n",
       "             ('otevřít', 0.7929820418357849),\n",
       "             ('lánech', 0.7926300168037415),\n",
       "             ('normálu', 0.7883449792861938),\n",
       "             ('velikonoce', 0.7760518789291382),\n",
       "             ('jednání', 0.7628975510597229),\n",
       "             ('ohledně', 0.7525379657745361)])"
      ]
     },
     "execution_count": 26,
     "metadata": {},
     "output_type": "execute_result"
    }
   ],
   "source": [
    "w2v_model.find_synonyms(\"zeman\", count = 10)"
   ]
  },
  {
   "cell_type": "code",
   "execution_count": 27,
   "metadata": {},
   "outputs": [],
   "source": [
    "# Function for prediction\n",
    "def predict(headlines, w2v, gbm):\n",
    "    words = tokenize(h2o.H2OFrame(headlines).ascharacter())\n",
    "    headlines_vec = w2v.transform(words, aggregate_method=\"AVERAGE\")\n",
    "    print(gbm.predict(test_data=headlines_vec))"
   ]
  },
  {
   "cell_type": "code",
   "execution_count": 28,
   "metadata": {},
   "outputs": [],
   "source": [
    "# Calculates a vector for each headline\n",
    "headlines_vecs = w2v_model.transform(words, aggregate_method = \"AVERAGE\")"
   ]
  },
  {
   "cell_type": "code",
   "execution_count": 29,
   "metadata": {},
   "outputs": [
    {
     "name": "stdout",
     "output_type": "stream",
     "text": [
      "gbm Model Build progress: |███████████████████████████████████████████████| 100%\n"
     ]
    }
   ],
   "source": [
    "# Preparing train and validation data\n",
    "valid_headlines = ~ headlines_vecs[\"C1\"].isna()\n",
    "data = headlines[valid_headlines,:].cbind(headlines_vecs[valid_headlines,:])\n",
    "data_split = data.split_frame(ratios=[0.8])\n",
    "\n",
    "# Builds GBM model\n",
    "gbm_model = H2OGradientBoostingEstimator()\n",
    "gbm_model.train(x = headlines_vecs.names,\n",
    "                y=\"source\", \n",
    "                training_frame = data_split[0], \n",
    "                validation_frame = data_split[1])"
   ]
  },
  {
   "cell_type": "code",
   "execution_count": 30,
   "metadata": {},
   "outputs": [
    {
     "name": "stdout",
     "output_type": "stream",
     "text": [
      "Predict!\n",
      "Parse progress: |█████████████████████████████████████████████████████████| 100%\n",
      "gbm prediction progress: |████████████████████████████████████████████████| 100%\n"
     ]
    },
    {
     "data": {
      "text/html": [
       "<table>\n",
       "<thead>\n",
       "<tr><th>predict  </th><th style=\"text-align: right;\">  Aktualne.cz</th><th style=\"text-align: right;\">  iDnes.cz</th></tr>\n",
       "</thead>\n",
       "<tbody>\n",
       "<tr><td>iDnes.cz </td><td style=\"text-align: right;\">     0.689529</td><td style=\"text-align: right;\">  0.310471</td></tr>\n",
       "</tbody>\n",
       "</table>"
      ]
     },
     "metadata": {},
     "output_type": "display_data"
    },
    {
     "name": "stdout",
     "output_type": "stream",
     "text": [
      "\n",
      "None\n"
     ]
    }
   ],
   "source": [
    "print(\"Predict!\")\n",
    "print(predict([\"Justiční aktivista dostal pokutu 50 tisíc za databázi soudních jednání\"], w2v_model, gbm_model))"
   ]
  },
  {
   "cell_type": "code",
   "execution_count": null,
   "metadata": {},
   "outputs": [],
   "source": []
  }
 ],
 "metadata": {
  "kernelspec": {
   "display_name": "Python 3",
   "language": "python",
   "name": "python3"
  },
  "language_info": {
   "codemirror_mode": {
    "name": "ipython",
    "version": 3
   },
   "file_extension": ".py",
   "mimetype": "text/x-python",
   "name": "python",
   "nbconvert_exporter": "python",
   "pygments_lexer": "ipython3",
   "version": "3.7.3"
  }
 },
 "nbformat": 4,
 "nbformat_minor": 2
}
