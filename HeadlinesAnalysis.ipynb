{
 "cells": [
  {
   "cell_type": "code",
   "execution_count": 1,
   "metadata": {},
   "outputs": [],
   "source": [
    "import pandas as pd\n",
    "\n",
    "from scripts.downloader import DownloaderAktualne, DownloaderIdnes"
   ]
  },
  {
   "cell_type": "code",
   "execution_count": 2,
   "metadata": {},
   "outputs": [],
   "source": [
    "## Downloading the articles\n",
    "# Config\n",
    "url_aktualne = \"https://zpravy.aktualne.cz/domaci/\"\n",
    "url_idnes = \"https://www.idnes.cz/zpravy/domaci/\"\n",
    "\n",
    "path_aktualne = \"data/articles_Aktualne.cz.csv\"\n",
    "path_idnes = \"data/articles_iDnes.cz.csv\""
   ]
  },
  {
   "cell_type": "code",
   "execution_count": 3,
   "metadata": {},
   "outputs": [
    {
     "name": "stdout",
     "output_type": "stream",
     "text": [
      "Succesfully initialized DownloaderAktualne.\n",
      "Succesfully initialized DownloaderIdnes.\n"
     ]
    }
   ],
   "source": [
    "# Init verbose DownloaderAktualne and DownloaderIdnes\n",
    "d_aktualne = DownloaderAktualne(url_aktualne, save_to=path_aktualne, verbose=True)\n",
    "d_idnes = DownloaderIdnes(url_idnes, save_to=path_idnes, verbose=True)"
   ]
  },
  {
   "cell_type": "code",
   "execution_count": 4,
   "metadata": {
    "scrolled": false
   },
   "outputs": [
    {
     "name": "stderr",
     "output_type": "stream",
     "text": [
      "100%|██████████| 4/4 [00:05<00:00,  1.42s/it]\n"
     ]
    },
    {
     "name": "stdout",
     "output_type": "stream",
     "text": [
      "Articles were successfully downloaded. Access DataFrame '.articles_df' or json list '.articles'.\n"
     ]
    }
   ],
   "source": [
    "# Download demo for iDnes.cz\n",
    "d_idnes.downloadHeadlines(from_page = 2, to_page = 5, bulk_size = 30)\n",
    "\n",
    "# Download data approx. to January 2016\n",
    "#d_aktualne.downloadHeadlines(from_page = 1, to_page = 1315, bulk_size = 30)\n",
    "#d_idnes.downloadHeadlines(from_page = 1, to_page = 672, bulk_size = 30)\n",
    "\n",
    "# Save downloads\n",
    "d_aktualne.saveToCsv()\n",
    "d_idnes.saveToCsv()\n",
    "\n",
    "#pd.concat([d_aktualne.articles_df[100:102], d_idnes.articles_df[40:42]])"
   ]
  },
  {
   "cell_type": "code",
   "execution_count": 5,
   "metadata": {},
   "outputs": [
    {
     "data": {
      "text/html": [
       "<div>\n",
       "<style scoped>\n",
       "    .dataframe tbody tr th:only-of-type {\n",
       "        vertical-align: middle;\n",
       "    }\n",
       "\n",
       "    .dataframe tbody tr th {\n",
       "        vertical-align: top;\n",
       "    }\n",
       "\n",
       "    .dataframe thead th {\n",
       "        text-align: right;\n",
       "    }\n",
       "</style>\n",
       "<table border=\"1\" class=\"dataframe\">\n",
       "  <thead>\n",
       "    <tr style=\"text-align: right;\">\n",
       "      <th></th>\n",
       "      <th>article_id</th>\n",
       "      <th>slug</th>\n",
       "      <th>date</th>\n",
       "      <th>time</th>\n",
       "      <th>is_updated</th>\n",
       "      <th>headline</th>\n",
       "      <th>excerpt</th>\n",
       "      <th>article_url</th>\n",
       "      <th>scraped_at</th>\n",
       "    </tr>\n",
       "  </thead>\n",
       "  <tbody>\n",
       "    <tr>\n",
       "      <th>24357</th>\n",
       "      <td>A200509_080447_domaci_kuce</td>\n",
       "      <td>prehledne-pondeli-11-kvetna-akce-do-sto-osob-s...</td>\n",
       "      <td>2020-05-11</td>\n",
       "      <td>00:00:00</td>\n",
       "      <td>False</td>\n",
       "      <td>PŘEHLEDNĚ: Návrat k normálu. Otevírají se kade...</td>\n",
       "      <td>V pondělí 11. května končí některá opatření na...</td>\n",
       "      <td>https://www.idnes.cz/zpravy/domaci/prehledne-p...</td>\n",
       "      <td>18-05-2020 15:59:01</td>\n",
       "    </tr>\n",
       "    <tr>\n",
       "      <th>24358</th>\n",
       "      <td>A200510_201118_domaci_aug</td>\n",
       "      <td>duchod-penze-zvyseni-cesko-schillerova-malacova</td>\n",
       "      <td>2020-05-10</td>\n",
       "      <td>20:28:00</td>\n",
       "      <td>False</td>\n",
       "      <td>Důchody by se od ledna měly zvýšit o 800 korun...</td>\n",
       "      <td>Důchody v Česku by se od ledna měly zvýšit o v...</td>\n",
       "      <td>https://www.idnes.cz/zpravy/domaci/duchod-penz...</td>\n",
       "      <td>18-05-2020 15:59:01</td>\n",
       "    </tr>\n",
       "    <tr>\n",
       "      <th>24359</th>\n",
       "      <td>A200506_164944_domaci_kuce</td>\n",
       "      <td>jindrich-voboril-drogy-socialni-sluzby-koronav...</td>\n",
       "      <td>2020-05-10</td>\n",
       "      <td>18:55:00</td>\n",
       "      <td>False</td>\n",
       "      <td>Začali blbnout, rozpili se ze ztráty práce. Sp...</td>\n",
       "      <td>Počet drogově závislých během současné koronav...</td>\n",
       "      <td>https://www.idnes.cz/zpravy/domaci/jindrich-vo...</td>\n",
       "      <td>18-05-2020 15:59:01</td>\n",
       "    </tr>\n",
       "    <tr>\n",
       "      <th>24360</th>\n",
       "      <td>A200507_172334_domaci_chtl</td>\n",
       "      <td>koronavirus-v-cesku-deti-v-karantene-doma-se-u...</td>\n",
       "      <td>2020-05-10</td>\n",
       "      <td>18:03:00</td>\n",
       "      <td>False</td>\n",
       "      <td>Děti se doma učí víc, přesto si toho zapamatuj...</td>\n",
       "      <td>Téměř polovina dětí tvrdí, že se doma během no...</td>\n",
       "      <td>https://www.idnes.cz/zpravy/domaci/koronavirus...</td>\n",
       "      <td>18-05-2020 15:59:01</td>\n",
       "    </tr>\n",
       "    <tr>\n",
       "      <th>24361</th>\n",
       "      <td>A200507_142858_domaci_kane</td>\n",
       "      <td>pendleri-zahranici-cesky-obcan-koronavirova-kr...</td>\n",
       "      <td>2020-05-10</td>\n",
       "      <td>15:57:00</td>\n",
       "      <td>False</td>\n",
       "      <td>Trnitá cesta pro 60 tisíc lidí. Od chaotického...</td>\n",
       "      <td>Za prací dojíždí do zahraničí téměř 60 tisíc č...</td>\n",
       "      <td>https://www.idnes.cz/zpravy/domaci/pendleri-za...</td>\n",
       "      <td>18-05-2020 15:59:01</td>\n",
       "    </tr>\n",
       "  </tbody>\n",
       "</table>\n",
       "</div>"
      ],
      "text/plain": [
       "                       article_id  \\\n",
       "24357  A200509_080447_domaci_kuce   \n",
       "24358   A200510_201118_domaci_aug   \n",
       "24359  A200506_164944_domaci_kuce   \n",
       "24360  A200507_172334_domaci_chtl   \n",
       "24361  A200507_142858_domaci_kane   \n",
       "\n",
       "                                                    slug        date  \\\n",
       "24357  prehledne-pondeli-11-kvetna-akce-do-sto-osob-s...  2020-05-11   \n",
       "24358    duchod-penze-zvyseni-cesko-schillerova-malacova  2020-05-10   \n",
       "24359  jindrich-voboril-drogy-socialni-sluzby-koronav...  2020-05-10   \n",
       "24360  koronavirus-v-cesku-deti-v-karantene-doma-se-u...  2020-05-10   \n",
       "24361  pendleri-zahranici-cesky-obcan-koronavirova-kr...  2020-05-10   \n",
       "\n",
       "           time  is_updated  \\\n",
       "24357  00:00:00       False   \n",
       "24358  20:28:00       False   \n",
       "24359  18:55:00       False   \n",
       "24360  18:03:00       False   \n",
       "24361  15:57:00       False   \n",
       "\n",
       "                                                headline  \\\n",
       "24357  PŘEHLEDNĚ: Návrat k normálu. Otevírají se kade...   \n",
       "24358  Důchody by se od ledna měly zvýšit o 800 korun...   \n",
       "24359  Začali blbnout, rozpili se ze ztráty práce. Sp...   \n",
       "24360  Děti se doma učí víc, přesto si toho zapamatuj...   \n",
       "24361  Trnitá cesta pro 60 tisíc lidí. Od chaotického...   \n",
       "\n",
       "                                                 excerpt  \\\n",
       "24357  V pondělí 11. května končí některá opatření na...   \n",
       "24358  Důchody v Česku by se od ledna měly zvýšit o v...   \n",
       "24359  Počet drogově závislých během současné koronav...   \n",
       "24360  Téměř polovina dětí tvrdí, že se doma během no...   \n",
       "24361  Za prací dojíždí do zahraničí téměř 60 tisíc č...   \n",
       "\n",
       "                                             article_url           scraped_at  \n",
       "24357  https://www.idnes.cz/zpravy/domaci/prehledne-p...  18-05-2020 15:59:01  \n",
       "24358  https://www.idnes.cz/zpravy/domaci/duchod-penz...  18-05-2020 15:59:01  \n",
       "24359  https://www.idnes.cz/zpravy/domaci/jindrich-vo...  18-05-2020 15:59:01  \n",
       "24360  https://www.idnes.cz/zpravy/domaci/koronavirus...  18-05-2020 15:59:01  \n",
       "24361  https://www.idnes.cz/zpravy/domaci/pendleri-za...  18-05-2020 15:59:01  "
      ]
     },
     "execution_count": 5,
     "metadata": {},
     "output_type": "execute_result"
    }
   ],
   "source": [
    "# Check that recent articles are downloaded: \n",
    "articles = pd.read_csv(path_idnes)\n",
    "articles.tail()"
   ]
  },
  {
   "cell_type": "code",
   "execution_count": 6,
   "metadata": {},
   "outputs": [],
   "source": [
    "### Headlines Analysis"
   ]
  },
  {
   "cell_type": "code",
   "execution_count": 7,
   "metadata": {},
   "outputs": [
    {
     "name": "stdout",
     "output_type": "stream",
     "text": [
      "Checking whether there is an H2O instance running at http://localhost:54321 ..... not found.\n",
      "Attempting to start a local H2O server...\n",
      "  Java Version: java version \"13.0.2\" 2020-01-14; Java(TM) SE Runtime Environment (build 13.0.2+8); Java HotSpot(TM) 64-Bit Server VM (build 13.0.2+8, mixed mode, sharing)\n",
      "  Starting server from /anaconda3/lib/python3.7/site-packages/h2o/backend/bin/h2o.jar\n",
      "  Ice root: /var/folders/c4/jxchjt990lg9002_rg92j8tr0000gn/T/tmpysk76be2\n",
      "  JVM stdout: /var/folders/c4/jxchjt990lg9002_rg92j8tr0000gn/T/tmpysk76be2/h2o_simon_started_from_python.out\n",
      "  JVM stderr: /var/folders/c4/jxchjt990lg9002_rg92j8tr0000gn/T/tmpysk76be2/h2o_simon_started_from_python.err\n",
      "  Server is running at http://127.0.0.1:54321\n",
      "Connecting to H2O server at http://127.0.0.1:54321 ... successful.\n"
     ]
    },
    {
     "data": {
      "text/html": [
       "<div style=\"overflow:auto\"><table style=\"width:50%\"><tr><td>H2O_cluster_uptime:</td>\n",
       "<td>03 secs</td></tr>\n",
       "<tr><td>H2O_cluster_timezone:</td>\n",
       "<td>Europe/Prague</td></tr>\n",
       "<tr><td>H2O_data_parsing_timezone:</td>\n",
       "<td>UTC</td></tr>\n",
       "<tr><td>H2O_cluster_version:</td>\n",
       "<td>3.30.0.1</td></tr>\n",
       "<tr><td>H2O_cluster_version_age:</td>\n",
       "<td>1 month and 14 days </td></tr>\n",
       "<tr><td>H2O_cluster_name:</td>\n",
       "<td>H2O_from_python_simon_iice7r</td></tr>\n",
       "<tr><td>H2O_cluster_total_nodes:</td>\n",
       "<td>1</td></tr>\n",
       "<tr><td>H2O_cluster_free_memory:</td>\n",
       "<td>2 Gb</td></tr>\n",
       "<tr><td>H2O_cluster_total_cores:</td>\n",
       "<td>4</td></tr>\n",
       "<tr><td>H2O_cluster_allowed_cores:</td>\n",
       "<td>4</td></tr>\n",
       "<tr><td>H2O_cluster_status:</td>\n",
       "<td>accepting new members, healthy</td></tr>\n",
       "<tr><td>H2O_connection_url:</td>\n",
       "<td>http://127.0.0.1:54321</td></tr>\n",
       "<tr><td>H2O_connection_proxy:</td>\n",
       "<td>{\"http\": null, \"https\": null}</td></tr>\n",
       "<tr><td>H2O_internal_security:</td>\n",
       "<td>False</td></tr>\n",
       "<tr><td>H2O_API_Extensions:</td>\n",
       "<td>Amazon S3, XGBoost, Algos, AutoML, Core V3, TargetEncoder, Core V4</td></tr>\n",
       "<tr><td>Python_version:</td>\n",
       "<td>3.7.3 final</td></tr></table></div>"
      ],
      "text/plain": [
       "--------------------------  ------------------------------------------------------------------\n",
       "H2O_cluster_uptime:         03 secs\n",
       "H2O_cluster_timezone:       Europe/Prague\n",
       "H2O_data_parsing_timezone:  UTC\n",
       "H2O_cluster_version:        3.30.0.1\n",
       "H2O_cluster_version_age:    1 month and 14 days\n",
       "H2O_cluster_name:           H2O_from_python_simon_iice7r\n",
       "H2O_cluster_total_nodes:    1\n",
       "H2O_cluster_free_memory:    2 Gb\n",
       "H2O_cluster_total_cores:    4\n",
       "H2O_cluster_allowed_cores:  4\n",
       "H2O_cluster_status:         accepting new members, healthy\n",
       "H2O_connection_url:         http://127.0.0.1:54321\n",
       "H2O_connection_proxy:       {\"http\": null, \"https\": null}\n",
       "H2O_internal_security:      False\n",
       "H2O_API_Extensions:         Amazon S3, XGBoost, Algos, AutoML, Core V3, TargetEncoder, Core V4\n",
       "Python_version:             3.7.3 final\n",
       "--------------------------  ------------------------------------------------------------------"
      ]
     },
     "metadata": {},
     "output_type": "display_data"
    }
   ],
   "source": [
    "# H2O Word2vec model\n",
    "import h2o\n",
    "h2o.init()\n",
    "from h2o.estimators.word2vec import H2OWord2vecEstimator\n",
    "from h2o.estimators.gbm import H2OGradientBoostingEstimator"
   ]
  },
  {
   "cell_type": "code",
   "execution_count": 8,
   "metadata": {},
   "outputs": [
    {
     "name": "stdout",
     "output_type": "stream",
     "text": [
      "Parse progress: |█████████████████████████████████████████████████████████| 100%\n",
      "Parse progress: |█████████████████████████████████████████████████████████| 100%\n",
      "Parse progress: |█████████████████████████████████████████████████████████| 100%\n"
     ]
    },
    {
     "data": {
      "text/html": [
       "<div>\n",
       "<style scoped>\n",
       "    .dataframe tbody tr th:only-of-type {\n",
       "        vertical-align: middle;\n",
       "    }\n",
       "\n",
       "    .dataframe tbody tr th {\n",
       "        vertical-align: top;\n",
       "    }\n",
       "\n",
       "    .dataframe thead th {\n",
       "        text-align: right;\n",
       "    }\n",
       "</style>\n",
       "<table border=\"1\" class=\"dataframe\">\n",
       "  <thead>\n",
       "    <tr style=\"text-align: right;\">\n",
       "      <th></th>\n",
       "      <th>source</th>\n",
       "      <th>headline</th>\n",
       "    </tr>\n",
       "  </thead>\n",
       "  <tbody>\n",
       "    <tr>\n",
       "      <th>0</th>\n",
       "      <td>Aktualne.cz</td>\n",
       "      <td>Chceme vyšetřovací komisi k nákupu ochranných ...</td>\n",
       "    </tr>\n",
       "    <tr>\n",
       "      <th>1</th>\n",
       "      <td>Aktualne.cz</td>\n",
       "      <td>ANO si drží podporu 34 procent. Druzí jsou Pir...</td>\n",
       "    </tr>\n",
       "    <tr>\n",
       "      <th>2</th>\n",
       "      <td>Aktualne.cz</td>\n",
       "      <td>Většinu Česka zasáhne v pondělí silný vítr, na...</td>\n",
       "    </tr>\n",
       "    <tr>\n",
       "      <th>3</th>\n",
       "      <td>Aktualne.cz</td>\n",
       "      <td>Hasiči v Praze hasili požár odpadu v kovošrotu...</td>\n",
       "    </tr>\n",
       "    <tr>\n",
       "      <th>4</th>\n",
       "      <td>Aktualne.cz</td>\n",
       "      <td>Sokolov odstranil při pietním aktu vlajku USA....</td>\n",
       "    </tr>\n",
       "    <tr>\n",
       "      <th>48879</th>\n",
       "      <td>iDnes.cz</td>\n",
       "      <td>PŘEHLEDNĚ: Návrat k normálu. Otevírají se kade...</td>\n",
       "    </tr>\n",
       "    <tr>\n",
       "      <th>48880</th>\n",
       "      <td>iDnes.cz</td>\n",
       "      <td>Důchody by se od ledna měly zvýšit o 800 korun...</td>\n",
       "    </tr>\n",
       "    <tr>\n",
       "      <th>48881</th>\n",
       "      <td>iDnes.cz</td>\n",
       "      <td>Začali blbnout, rozpili se ze ztráty práce. Sp...</td>\n",
       "    </tr>\n",
       "    <tr>\n",
       "      <th>48882</th>\n",
       "      <td>iDnes.cz</td>\n",
       "      <td>Děti se doma učí víc, přesto si toho zapamatuj...</td>\n",
       "    </tr>\n",
       "    <tr>\n",
       "      <th>48883</th>\n",
       "      <td>iDnes.cz</td>\n",
       "      <td>Trnitá cesta pro 60 tisíc lidí. Od chaotického...</td>\n",
       "    </tr>\n",
       "  </tbody>\n",
       "</table>\n",
       "</div>"
      ],
      "text/plain": [
       "            source                                           headline\n",
       "0      Aktualne.cz  Chceme vyšetřovací komisi k nákupu ochranných ...\n",
       "1      Aktualne.cz  ANO si drží podporu 34 procent. Druzí jsou Pir...\n",
       "2      Aktualne.cz  Většinu Česka zasáhne v pondělí silný vítr, na...\n",
       "3      Aktualne.cz  Hasiči v Praze hasili požár odpadu v kovošrotu...\n",
       "4      Aktualne.cz  Sokolov odstranil při pietním aktu vlajku USA....\n",
       "48879     iDnes.cz  PŘEHLEDNĚ: Návrat k normálu. Otevírají se kade...\n",
       "48880     iDnes.cz  Důchody by se od ledna měly zvýšit o 800 korun...\n",
       "48881     iDnes.cz  Začali blbnout, rozpili se ze ztráty práce. Sp...\n",
       "48882     iDnes.cz  Děti se doma učí víc, přesto si toho zapamatuj...\n",
       "48883     iDnes.cz  Trnitá cesta pro 60 tisíc lidí. Od chaotického..."
      ]
     },
     "execution_count": 8,
     "metadata": {},
     "output_type": "execute_result"
    }
   ],
   "source": [
    "# Importing Aktualne.cz headlines\n",
    "headlines_aktualne = pd.read_csv(path_aktualne, usecols=[\"headline\"], encoding=\"utf-8\")\n",
    "headlines_aktualne.insert(0, \"source\", \"Aktualne.cz\")\n",
    "\n",
    "# Importing iDnes.cz headlines\n",
    "headlines_idnes = pd.read_csv(path_idnes, usecols=[\"headline\"], encoding=\"utf-8\")\n",
    "headlines_idnes.insert(0, \"source\", \"iDnes.cz\")\n",
    "\n",
    "# Concat headlines\n",
    "df_headlines = pd.concat([headlines_aktualne, headlines_idnes], ignore_index=True)\n",
    "\n",
    "# Convert pd.DataFrame to H2O DataFrame\n",
    "headlines = h2o.H2OFrame(df_headlines)\n",
    "\n",
    "headlines_aktualne = h2o.H2OFrame(headlines_aktualne)\n",
    "headlines_idnes = h2o.H2OFrame(headlines_idnes)\n",
    "\n",
    "# Check data\n",
    "pd.concat([df_headlines[:5], df_headlines[-5:]])"
   ]
  },
  {
   "cell_type": "code",
   "execution_count": 9,
   "metadata": {},
   "outputs": [],
   "source": [
    "# Defines the stopwords\n",
    "STOP_WORDS = [\"bych\", \"\", \"ačkoli\",\"ahoj\",\"ale\",\"anebo\",\"ač\",\"asi\",\"aspoň\",\"během\",\"bez\",\"beze\",\"blízko\",\"bohužel\",\"brzo\",\"bude\",\"budeme\",\"budeš\",\"budete\",\"budou\",\"budu\",\"byl\",\"byla\",\"byli\",\"bylo\",\"byly\",\"bys\",\"čau\",\"chce\",\"chceme\",\"chceš\",\"chcete\",\"chci\",\"chtějí\",\"chtít\",\"chut\\u0027\",\"chuti\",\"co\",\"čtrnáct\",\"čtyři\",\"dál\",\"dále\",\"daleko\",\"děkovat\",\"děkujeme\",\"děkuji\",\"den\",\"deset\",\"devatenáct\",\"devět\",\"do\",\"dobrý\",\"docela\",\"dva\",\"dvacet\",\"dvanáct\",\"dvě\",\"hodně\",\"já\",\"jak\",\"jde\",\"je\",\"jeden\",\"jedenáct\",\"jedna\",\"jedno\",\"jednou\",\"jedou\",\"jeho\",\"její\",\"jejich\",\"jemu\",\"jen\",\"jenom\",\"ještě\",\"jestli\",\"jestliže\",\"jí\",\"jich\",\"jím\",\"jimi\",\"jinak\",\"jsem\",\"jsi\",\"jsme\",\"jsou\",\"jste\",\"kam\",\"kde\",\"kdo\",\"kdy\",\"když\",\"ke\",\"kolik\",\"kromě\",\"která\",\"které\",\"kteří\",\"který\",\"kvůli\",\"má\",\"mají\",\"málo\",\"mám\",\"máme\",\"máš\",\"máte\",\"mé\",\"mě\",\"mezi\",\"mí\",\"mít\",\"mně\",\"mnou\",\"moc\",\"mohl\",\"mohou\",\"moje\",\"moji\",\"možná\",\"můj\",\"musí\",\"může\",\"my\",\"na\",\"nad\",\"nade\",\"nám\",\"námi\",\"naproti\",\"nás\",\"náš\",\"naše\",\"naši\",\"ne\",\"ně\",\"nebo\",\"nebyl\",\"nebyla\",\"nebyli\",\"nebyly\",\"něco\",\"nedělá\",\"nedělají\",\"nedělám\",\"neděláme\",\"neděláš\",\"neděláte\",\"nějak\",\"nejsi\",\"někde\",\"někdo\",\"nemají\",\"nemáme\",\"nemáte\",\"neměl\",\"němu\",\"není\",\"nestačí\",\"nevadí\",\"než\",\"nic\",\"nich\",\"ním\",\"nimi\",\"nula\",\"od\",\"ode\",\"on\",\"ona\",\"oni\",\"ono\",\"ony\",\"osm\",\"osmnáct\",\"pak\",\"patnáct\",\"pět\",\"po\",\"pořád\",\"potom\",\"pozdě\",\"před\",\"přes\",\"přese\",\"pro\",\"proč\",\"prosím\",\"prostě\",\"proti\",\"protože\",\"rovně\",\"se\",\"sedm\",\"sedmnáct\",\"šest\",\"šestnáct\",\"skoro\",\"smějí\",\"smí\",\"snad\",\"spolu\",\"sta\",\"sté\",\"sto\",\"ta\",\"tady\",\"tak\",\"takhle\",\"taky\",\"tam\",\"tamhle\",\"tamhleto\",\"tamto\",\"tě\",\"tebe\",\"tebou\",\"ted\\u0027\",\"tedy\",\"ten\",\"ti\",\"tisíc\",\"tisíce\",\"to\",\"tobě\",\"tohle\",\"toto\",\"třeba\",\"tři\",\"třináct\",\"trošku\",\"tvá\",\"tvé\",\"tvoje\",\"tvůj\",\"ty\",\"určitě\",\"už\",\"vám\",\"vámi\",\"vás\",\"váš\",\"vaše\",\"vaši\",\"ve\",\"večer\",\"vedle\",\"vlastně\",\"všechno\",\"všichni\",\"vůbec\",\"vy\",\"vždy\",\"za\",\"zač\",\"zatímco\",\"ze\",\"že\",\"aby\",\"aj\",\"ani\",\"az\",\"budem\",\"budes\",\"by\",\"byt\",\"ci\",\"clanek\",\"clanku\",\"clanky\",\"coz\",\"cz\",\"dalsi\",\"design\",\"dnes\",\"email\",\"ho\",\"jako\",\"jej\",\"jeji\",\"jeste\",\"ji\",\"jine\",\"jiz\",\"jses\",\"kdyz\",\"ktera\",\"ktere\",\"kteri\",\"kterou\",\"ktery\",\"ma\",\"mate\",\"mi\",\"mit\",\"muj\",\"muze\",\"nam\",\"napiste\",\"nas\",\"nasi\",\"nejsou\",\"neni\",\"nez\",\"nove\",\"novy\",\"pod\",\"podle\",\"pokud\",\"pouze\",\"prave\",\"pred\",\"pres\",\"pri\",\"proc\",\"proto\",\"protoze\",\"prvni\",\"pta\",\"re\",\"si\",\"strana\",\"sve\",\"svych\",\"svym\",\"svymi\",\"take\",\"takze\",\"tato\",\"tema\",\"tento\",\"teto\",\"tim\",\"timto\",\"tipy\",\"toho\",\"tohoto\",\"tom\",\"tomto\",\"tomuto\",\"tu\",\"tuto\",\"tyto\",\"uz\",\"vam\",\"vas\",\"vase\",\"vice\",\"vsak\",\"zda\",\"zde\",\"zpet\",\"zpravy\",\"a\",\"aniž\",\"až\",\"být\",\"což\",\"či\",\"článek\",\"článku\",\"články\",\"další\",\"i\",\"jenž\",\"jiné\",\"již\",\"jseš\",\"jšte\",\"k\",\"každý\",\"kteři\",\"ku\",\"me\",\"ná\",\"napište\",\"nechť\",\"ní\",\"nové\",\"nový\",\"o\",\"práve\",\"první\",\"přede\",\"při\",\"s\",\"sice\",\"své\",\"svůj\",\"svých\",\"svým\",\"svými\",\"také\",\"takže\",\"te\",\"těma\",\"této\",\"tím\",\"tímto\",\"u\",\"v\",\"více\",\"však\",\"všechen\",\"z\",\"zpět\",\"zprávy\"] # \"ano\" was left out\n",
    "\n",
    "# Handles the tokenization\n",
    "def tokenize(sentences, stop_word = STOP_WORDS):\n",
    "    # Handlig Czech chracters, seperate by space instead of regex \"\\\\W+\"\n",
    "    tokenized = sentences.tokenize(\" \")\n",
    "    tokenized = tokenized.rstrip()\n",
    "    tokenized = tokenized.rstrip(\".\")\n",
    "    tokenized = tokenized.rstrip(\",\")\n",
    "    tokenized = tokenized.rstrip(\"!\")\n",
    "    tokenized = tokenized.rstrip(\"?\")\n",
    "    tokenized = tokenized.rstrip(\"-\")\n",
    "    tokenized = tokenized.rstrip(\":\")\n",
    "\n",
    "    tokenized_cleaned = tokenized\n",
    "    tokenized_lower = tokenized.tolower()\n",
    "    tokenized_filtered = tokenized_lower[(tokenized_lower.nchar() >= 2) | (tokenized_lower.isna()),:]\n",
    "    tokenized_words = tokenized_filtered[tokenized_filtered.grep(\"[0-9]\",invert=True,output_logical=True),:]\n",
    "    tokenized_words = tokenized_words[(tokenized_words.isna()) | (~ tokenized_words.isin(STOP_WORDS)),:]\n",
    "    \n",
    "    return tokenized_words"
   ]
  },
  {
   "cell_type": "code",
   "execution_count": 10,
   "metadata": {},
   "outputs": [
    {
     "data": {
      "text/html": [
       "<table>\n",
       "<thead>\n",
       "<tr><th>C1         </th></tr>\n",
       "</thead>\n",
       "<tbody>\n",
       "<tr><td>vyšetřovací</td></tr>\n",
       "<tr><td>komisi     </td></tr>\n",
       "<tr><td>nákupu     </td></tr>\n",
       "<tr><td>ochranných </td></tr>\n",
       "<tr><td>pomůcek    </td></tr>\n",
       "<tr><td>shodla     </td></tr>\n",
       "<tr><td>opozice    </td></tr>\n",
       "<tr><td>           </td></tr>\n",
       "<tr><td>ano        </td></tr>\n",
       "<tr><td>drží       </td></tr>\n",
       "</tbody>\n",
       "</table>"
      ]
     },
     "metadata": {},
     "output_type": "display_data"
    },
    {
     "data": {
      "text/plain": [
       "<bound method H2OFrame.describe of >"
      ]
     },
     "execution_count": 10,
     "metadata": {},
     "output_type": "execute_result"
    }
   ],
   "source": [
    "# Breaks down the string to sequence of words\n",
    "words = tokenize(headlines[\"headline\"])\n",
    "\n",
    "words_aktualne = tokenize(headlines_aktualne[\"headline\"])\n",
    "words_idnes = tokenize(headlines_idnes[\"headline\"])\n",
    "\n",
    "words.describe"
   ]
  },
  {
   "cell_type": "code",
   "execution_count": 11,
   "metadata": {},
   "outputs": [
    {
     "name": "stdout",
     "output_type": "stream",
     "text": [
      "word2vec Model Build progress: |██████████████████████████████████████████| 100%\n",
      "word2vec Model Build progress: |██████████████████████████████████████████| 100%\n",
      "word2vec Model Build progress: |██████████████████████████████████████████| 100%\n"
     ]
    }
   ],
   "source": [
    "# Builds word2vec model\n",
    "w2v_model = H2OWord2vecEstimator(sent_sample_rate = 0.0, epochs = 10)\n",
    "w2v_model.train(training_frame=words)\n",
    "\n",
    "w2v_model_aktualne = H2OWord2vecEstimator(sent_sample_rate = 0.0, epochs = 10)\n",
    "w2v_model_aktualne.train(training_frame=words_aktualne)\n",
    "\n",
    "w2v_model_idnes = H2OWord2vecEstimator(sent_sample_rate = 0.0, epochs = 10)\n",
    "w2v_model_idnes.train(training_frame=words_idnes)"
   ]
  },
  {
   "cell_type": "code",
   "execution_count": 12,
   "metadata": {},
   "outputs": [
    {
     "data": {
      "text/plain": [
       "OrderedDict([('čssd', 0.719825029373169),\n",
       "             ('birke', 0.6884865760803223),\n",
       "             ('starostů', 0.6816575527191162),\n",
       "             ('kandidátky', 0.6808851361274719),\n",
       "             ('běhounek', 0.6792238354682922),\n",
       "             ('černochová', 0.6779224276542664),\n",
       "             ('kdu-čsl', 0.6772832870483398),\n",
       "             ('místopředsedu', 0.6715683341026306),\n",
       "             ('bartošek', 0.6656481027603149),\n",
       "             ('občanští', 0.6643967032432556)])"
      ]
     },
     "execution_count": 12,
     "metadata": {},
     "output_type": "execute_result"
    }
   ],
   "source": [
    "# Gives us synonym to a given word\n",
    "word_to_find = \"strany\"\n",
    "w2v_model_aktualne.find_synonyms(word_to_find, count = 10)"
   ]
  },
  {
   "cell_type": "code",
   "execution_count": 13,
   "metadata": {},
   "outputs": [
    {
     "data": {
      "text/plain": [
       "OrderedDict([('lidovců', 0.7193344831466675),\n",
       "             ('kdu-čsl', 0.7079429626464844),\n",
       "             ('obhájil', 0.7035784125328064),\n",
       "             ('předsedu', 0.7008177042007446),\n",
       "             ('pravice', 0.7003647089004517),\n",
       "             ('kandidovat', 0.7002758383750916),\n",
       "             ('koalici', 0.6919031739234924),\n",
       "             ('ods', 0.6882467269897461),\n",
       "             ('stan', 0.6852326393127441),\n",
       "             ('gazdík', 0.6843449473381042)])"
      ]
     },
     "execution_count": 13,
     "metadata": {},
     "output_type": "execute_result"
    }
   ],
   "source": [
    "w2v_model_idnes.find_synonyms(word_to_find, count = 10)"
   ]
  },
  {
   "cell_type": "code",
   "execution_count": 14,
   "metadata": {},
   "outputs": [],
   "source": [
    "# Function for prediction\n",
    "def predict(headlines, w2v, gbm):\n",
    "    words = tokenize(h2o.H2OFrame(headlines).ascharacter())\n",
    "    headlines_vec = w2v.transform(words, aggregate_method=\"AVERAGE\")\n",
    "    print(gbm.predict(test_data=headlines_vec))"
   ]
  },
  {
   "cell_type": "code",
   "execution_count": 15,
   "metadata": {},
   "outputs": [],
   "source": [
    "# Calculates a vector for each headline\n",
    "headlines_vecs = w2v_model.transform(words, aggregate_method = \"AVERAGE\")"
   ]
  },
  {
   "cell_type": "code",
   "execution_count": 16,
   "metadata": {},
   "outputs": [
    {
     "name": "stdout",
     "output_type": "stream",
     "text": [
      "gbm Model Build progress: |███████████████████████████████████████████████| 100%\n"
     ]
    }
   ],
   "source": [
    "# Preparing train and validation data\n",
    "valid_headlines = ~ headlines_vecs[\"C1\"].isna()\n",
    "data = headlines[valid_headlines,:].cbind(headlines_vecs[valid_headlines,:])\n",
    "data_split = data.split_frame(ratios=[0.8])\n",
    "\n",
    "# Builds GBM model\n",
    "gbm_model = H2OGradientBoostingEstimator()\n",
    "gbm_model.train(x = headlines_vecs.names,\n",
    "                y=\"source\", \n",
    "                training_frame = data_split[0], \n",
    "                validation_frame = data_split[1])"
   ]
  },
  {
   "cell_type": "code",
   "execution_count": 18,
   "metadata": {},
   "outputs": [
    {
     "name": "stdout",
     "output_type": "stream",
     "text": [
      "Predict (article from iDnes.cz)\n",
      "Parse progress: |█████████████████████████████████████████████████████████| 100%\n",
      "gbm prediction progress: |████████████████████████████████████████████████| 100%\n"
     ]
    },
    {
     "data": {
      "text/html": [
       "<table>\n",
       "<thead>\n",
       "<tr><th>predict  </th><th style=\"text-align: right;\">  Aktualne.cz</th><th style=\"text-align: right;\">  iDnes.cz</th></tr>\n",
       "</thead>\n",
       "<tbody>\n",
       "<tr><td>iDnes.cz </td><td style=\"text-align: right;\">     0.457224</td><td style=\"text-align: right;\">  0.542776</td></tr>\n",
       "</tbody>\n",
       "</table>"
      ]
     },
     "metadata": {},
     "output_type": "display_data"
    },
    {
     "name": "stdout",
     "output_type": "stream",
     "text": [
      "\n",
      "None\n"
     ]
    }
   ],
   "source": [
    "test_article_source = \"iDnes.cz\"\n",
    "test_article = \"Když agendu určuje Novotný a výzvy ODS působí směšně\"\n",
    "\n",
    "print(\"Predict (article from %s)\" % test_article_source)\n",
    "print(predict([test_article], w2v_model, gbm_model))"
   ]
  },
  {
   "cell_type": "code",
   "execution_count": null,
   "metadata": {},
   "outputs": [],
   "source": []
  }
 ],
 "metadata": {
  "kernelspec": {
   "display_name": "Python 3",
   "language": "python",
   "name": "python3"
  },
  "language_info": {
   "codemirror_mode": {
    "name": "ipython",
    "version": 3
   },
   "file_extension": ".py",
   "mimetype": "text/x-python",
   "name": "python",
   "nbconvert_exporter": "python",
   "pygments_lexer": "ipython3",
   "version": "3.7.3"
  }
 },
 "nbformat": 4,
 "nbformat_minor": 2
}
