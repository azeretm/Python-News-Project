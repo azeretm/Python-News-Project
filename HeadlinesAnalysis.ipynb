{
 "cells": [
  {
   "cell_type": "code",
   "execution_count": 2,
   "metadata": {},
   "outputs": [],
   "source": [
    "import pandas as pd\n",
    "\n",
    "from scripts.downloader import DownloaderAktualne, DownloaderIdnes"
   ]
  },
  {
   "cell_type": "code",
   "execution_count": 3,
   "metadata": {},
   "outputs": [],
   "source": [
    "### Downloading the articles\n",
    "# Config\n",
    "url_aktualne = \"https://zpravy.aktualne.cz/domaci/\"\n",
    "url_idnes = \"https://www.idnes.cz/zpravy/domaci/\"\n",
    "\n",
    "path_aktualne = \"data/articles_Aktualne.cz.csv\"\n",
    "path_idnes = \"data/articles_iDnes.cz.csv\""
   ]
  },
  {
   "cell_type": "code",
   "execution_count": 4,
   "metadata": {},
   "outputs": [
    {
     "name": "stdout",
     "output_type": "stream",
     "text": [
      "Succesfully initialized Downloader.\n",
      "Succesfully initialized Downloader.\n"
     ]
    }
   ],
   "source": [
    "# Init verbose DownloaderAktualne and DownloaderIdnes\n",
    "d_aktualne = DownloaderAktualne(url_aktualne, save_to=path_aktualne, verbose=True)\n",
    "d_idnes = DownloaderIdnes(url_idnes, save_to=path_idnes, verbose=True)"
   ]
  },
  {
   "cell_type": "code",
   "execution_count": 4,
   "metadata": {},
   "outputs": [],
   "source": [
    "# Download demo\n",
    "d_aktualne.downloadHeadlines()\n",
    "d_aktualne.saveToCsv()\n",
    "\n",
    "d_idnes.downloadHeadlines()\n",
    "d_idnes.saveToCsv()"
   ]
  },
  {
   "cell_type": "code",
   "execution_count": 5,
   "metadata": {},
   "outputs": [
    {
     "data": {
      "text/html": [
       "<div>\n",
       "<style scoped>\n",
       "    .dataframe tbody tr th:only-of-type {\n",
       "        vertical-align: middle;\n",
       "    }\n",
       "\n",
       "    .dataframe tbody tr th {\n",
       "        vertical-align: top;\n",
       "    }\n",
       "\n",
       "    .dataframe thead th {\n",
       "        text-align: right;\n",
       "    }\n",
       "</style>\n",
       "<table border=\"1\" class=\"dataframe\">\n",
       "  <thead>\n",
       "    <tr style=\"text-align: right;\">\n",
       "      <th></th>\n",
       "      <th>article_id</th>\n",
       "      <th>slug</th>\n",
       "      <th>date</th>\n",
       "      <th>time</th>\n",
       "      <th>is_updated</th>\n",
       "      <th>headline</th>\n",
       "      <th>excerpt</th>\n",
       "      <th>article_url</th>\n",
       "      <th>scraped_at</th>\n",
       "    </tr>\n",
       "  </thead>\n",
       "  <tbody>\n",
       "    <tr>\n",
       "      <th>0</th>\n",
       "      <td>A200503_184442_domaci_kane</td>\n",
       "      <td>eet-tabory-epidemie-koronavirus-ubytovaci-sluz...</td>\n",
       "      <td>NaN</td>\n",
       "      <td>NaN</td>\n",
       "      <td>False</td>\n",
       "      <td>EET odložíme do konce roku, nouzový stav prodl...</td>\n",
       "      <td>Premiér Andrej Babiš připustil, že fungování E...</td>\n",
       "      <td>https://www.idnes.cz/zpravy/domaci/eet-tabory-...</td>\n",
       "      <td>03-05-2020 20:03:39</td>\n",
       "    </tr>\n",
       "    <tr>\n",
       "      <th>1</th>\n",
       "      <td>A200430_112440_domaci_rik</td>\n",
       "      <td>lenin-hitler-komunismus-nacismus</td>\n",
       "      <td>NaN</td>\n",
       "      <td>NaN</td>\n",
       "      <td>False</td>\n",
       "      <td>Alternativní historie bez Hitlera a Lenina. Dě...</td>\n",
       "      <td>Je to pár dní, co uplynulo 150 let od narození...</td>\n",
       "      <td>https://www.idnes.cz/zpravy/domaci/lenin-hitle...</td>\n",
       "      <td>03-05-2020 20:03:39</td>\n",
       "    </tr>\n",
       "    <tr>\n",
       "      <th>2</th>\n",
       "      <td>A200503_114708_domaci_rejs</td>\n",
       "      <td>videa-tydne-nevera-moderator-pentagon-ufo-skla...</td>\n",
       "      <td>NaN</td>\n",
       "      <td>NaN</td>\n",
       "      <td>False</td>\n",
       "      <td>VIDEA TÝDNE: Nevěra v přímém přenosu, nazí zah...</td>\n",
       "      <td>Na velký malér si zadělal španělský moderátor,...</td>\n",
       "      <td>https://www.idnes.cz/zpravy/domaci/videa-tydne...</td>\n",
       "      <td>03-05-2020 20:03:39</td>\n",
       "    </tr>\n",
       "    <tr>\n",
       "      <th>3</th>\n",
       "      <td>A200428_111910_domaci_lre</td>\n",
       "      <td>rozhovor-cestina-pravdova-akademie-ved-koronav...</td>\n",
       "      <td>NaN</td>\n",
       "      <td>NaN</td>\n",
       "      <td>False</td>\n",
       "      <td>Koronáčelník nás zaprymuloval do harantény. O ...</td>\n",
       "      <td>Pandemie koronaviru ovlivnila nejen naše život...</td>\n",
       "      <td>https://www.idnes.cz/zpravy/domaci/rozhovor-ce...</td>\n",
       "      <td>03-05-2020 20:03:39</td>\n",
       "    </tr>\n",
       "    <tr>\n",
       "      <th>4</th>\n",
       "      <td>A200429_175133_domaci_lre</td>\n",
       "      <td>koronavirus-slovni-zasoba-nova-slova-korona-ko...</td>\n",
       "      <td>NaN</td>\n",
       "      <td>NaN</td>\n",
       "      <td>False</td>\n",
       "      <td>KVÍZ: Víte, co je to koronáč nebo prdom? Otest...</td>\n",
       "      <td>Co je to prymulex, koronáčelník nebo v současn...</td>\n",
       "      <td>https://www.idnes.cz/zpravy/domaci/koronavirus...</td>\n",
       "      <td>03-05-2020 20:03:39</td>\n",
       "    </tr>\n",
       "  </tbody>\n",
       "</table>\n",
       "</div>"
      ],
      "text/plain": [
       "                   article_id  \\\n",
       "0  A200503_184442_domaci_kane   \n",
       "1   A200430_112440_domaci_rik   \n",
       "2  A200503_114708_domaci_rejs   \n",
       "3   A200428_111910_domaci_lre   \n",
       "4   A200429_175133_domaci_lre   \n",
       "\n",
       "                                                slug date time  is_updated  \\\n",
       "0  eet-tabory-epidemie-koronavirus-ubytovaci-sluz...  NaN  NaN       False   \n",
       "1                   lenin-hitler-komunismus-nacismus  NaN  NaN       False   \n",
       "2  videa-tydne-nevera-moderator-pentagon-ufo-skla...  NaN  NaN       False   \n",
       "3  rozhovor-cestina-pravdova-akademie-ved-koronav...  NaN  NaN       False   \n",
       "4  koronavirus-slovni-zasoba-nova-slova-korona-ko...  NaN  NaN       False   \n",
       "\n",
       "                                            headline  \\\n",
       "0  EET odložíme do konce roku, nouzový stav prodl...   \n",
       "1  Alternativní historie bez Hitlera a Lenina. Dě...   \n",
       "2  VIDEA TÝDNE: Nevěra v přímém přenosu, nazí zah...   \n",
       "3  Koronáčelník nás zaprymuloval do harantény. O ...   \n",
       "4  KVÍZ: Víte, co je to koronáč nebo prdom? Otest...   \n",
       "\n",
       "                                             excerpt  \\\n",
       "0  Premiér Andrej Babiš připustil, že fungování E...   \n",
       "1  Je to pár dní, co uplynulo 150 let od narození...   \n",
       "2  Na velký malér si zadělal španělský moderátor,...   \n",
       "3  Pandemie koronaviru ovlivnila nejen naše život...   \n",
       "4  Co je to prymulex, koronáčelník nebo v současn...   \n",
       "\n",
       "                                         article_url           scraped_at  \n",
       "0  https://www.idnes.cz/zpravy/domaci/eet-tabory-...  03-05-2020 20:03:39  \n",
       "1  https://www.idnes.cz/zpravy/domaci/lenin-hitle...  03-05-2020 20:03:39  \n",
       "2  https://www.idnes.cz/zpravy/domaci/videa-tydne...  03-05-2020 20:03:39  \n",
       "3  https://www.idnes.cz/zpravy/domaci/rozhovor-ce...  03-05-2020 20:03:39  \n",
       "4  https://www.idnes.cz/zpravy/domaci/koronavirus...  03-05-2020 20:03:39  "
      ]
     },
     "execution_count": 5,
     "metadata": {},
     "output_type": "execute_result"
    }
   ],
   "source": [
    "articles = pd.read_csv(path_idnes)\n",
    "articles.head()"
   ]
  },
  {
   "cell_type": "code",
   "execution_count": 6,
   "metadata": {},
   "outputs": [],
   "source": [
    "### Headlines Analysis"
   ]
  },
  {
   "cell_type": "code",
   "execution_count": 7,
   "metadata": {},
   "outputs": [
    {
     "name": "stdout",
     "output_type": "stream",
     "text": [
      "Checking whether there is an H2O instance running at http://localhost:54321 ..... not found.\n",
      "Attempting to start a local H2O server...\n",
      "  Java Version: java version \"13.0.2\" 2020-01-14; Java(TM) SE Runtime Environment (build 13.0.2+8); Java HotSpot(TM) 64-Bit Server VM (build 13.0.2+8, mixed mode, sharing)\n",
      "  Starting server from /anaconda3/lib/python3.7/site-packages/h2o/backend/bin/h2o.jar\n",
      "  Ice root: /var/folders/c4/jxchjt990lg9002_rg92j8tr0000gn/T/tmpqreg1r45\n",
      "  JVM stdout: /var/folders/c4/jxchjt990lg9002_rg92j8tr0000gn/T/tmpqreg1r45/h2o_simon_started_from_python.out\n",
      "  JVM stderr: /var/folders/c4/jxchjt990lg9002_rg92j8tr0000gn/T/tmpqreg1r45/h2o_simon_started_from_python.err\n",
      "  Server is running at http://127.0.0.1:54321\n",
      "Connecting to H2O server at http://127.0.0.1:54321 ... successful.\n"
     ]
    },
    {
     "data": {
      "text/html": [
       "<div style=\"overflow:auto\"><table style=\"width:50%\"><tr><td>H2O_cluster_uptime:</td>\n",
       "<td>02 secs</td></tr>\n",
       "<tr><td>H2O_cluster_timezone:</td>\n",
       "<td>Europe/Prague</td></tr>\n",
       "<tr><td>H2O_data_parsing_timezone:</td>\n",
       "<td>UTC</td></tr>\n",
       "<tr><td>H2O_cluster_version:</td>\n",
       "<td>3.30.0.1</td></tr>\n",
       "<tr><td>H2O_cluster_version_age:</td>\n",
       "<td>1 month </td></tr>\n",
       "<tr><td>H2O_cluster_name:</td>\n",
       "<td>H2O_from_python_simon_z5oy9e</td></tr>\n",
       "<tr><td>H2O_cluster_total_nodes:</td>\n",
       "<td>1</td></tr>\n",
       "<tr><td>H2O_cluster_free_memory:</td>\n",
       "<td>2 Gb</td></tr>\n",
       "<tr><td>H2O_cluster_total_cores:</td>\n",
       "<td>4</td></tr>\n",
       "<tr><td>H2O_cluster_allowed_cores:</td>\n",
       "<td>4</td></tr>\n",
       "<tr><td>H2O_cluster_status:</td>\n",
       "<td>accepting new members, healthy</td></tr>\n",
       "<tr><td>H2O_connection_url:</td>\n",
       "<td>http://127.0.0.1:54321</td></tr>\n",
       "<tr><td>H2O_connection_proxy:</td>\n",
       "<td>{\"http\": null, \"https\": null}</td></tr>\n",
       "<tr><td>H2O_internal_security:</td>\n",
       "<td>False</td></tr>\n",
       "<tr><td>H2O_API_Extensions:</td>\n",
       "<td>Amazon S3, XGBoost, Algos, AutoML, Core V3, TargetEncoder, Core V4</td></tr>\n",
       "<tr><td>Python_version:</td>\n",
       "<td>3.7.3 final</td></tr></table></div>"
      ],
      "text/plain": [
       "--------------------------  ------------------------------------------------------------------\n",
       "H2O_cluster_uptime:         02 secs\n",
       "H2O_cluster_timezone:       Europe/Prague\n",
       "H2O_data_parsing_timezone:  UTC\n",
       "H2O_cluster_version:        3.30.0.1\n",
       "H2O_cluster_version_age:    1 month\n",
       "H2O_cluster_name:           H2O_from_python_simon_z5oy9e\n",
       "H2O_cluster_total_nodes:    1\n",
       "H2O_cluster_free_memory:    2 Gb\n",
       "H2O_cluster_total_cores:    4\n",
       "H2O_cluster_allowed_cores:  4\n",
       "H2O_cluster_status:         accepting new members, healthy\n",
       "H2O_connection_url:         http://127.0.0.1:54321\n",
       "H2O_connection_proxy:       {\"http\": null, \"https\": null}\n",
       "H2O_internal_security:      False\n",
       "H2O_API_Extensions:         Amazon S3, XGBoost, Algos, AutoML, Core V3, TargetEncoder, Core V4\n",
       "Python_version:             3.7.3 final\n",
       "--------------------------  ------------------------------------------------------------------"
      ]
     },
     "metadata": {},
     "output_type": "display_data"
    }
   ],
   "source": [
    "# Word2vec model\n",
    "import h2o\n",
    "h2o.init()\n",
    "from h2o.estimators.word2vec import H2OWord2vecEstimator\n",
    "from h2o.estimators.gbm import H2OGradientBoostingEstimator"
   ]
  },
  {
   "cell_type": "code",
   "execution_count": 8,
   "metadata": {},
   "outputs": [
    {
     "name": "stdout",
     "output_type": "stream",
     "text": [
      "Parse progress: |█████████████████████████████████████████████████████████| 100%\n"
     ]
    },
    {
     "data": {
      "text/html": [
       "<div>\n",
       "<style scoped>\n",
       "    .dataframe tbody tr th:only-of-type {\n",
       "        vertical-align: middle;\n",
       "    }\n",
       "\n",
       "    .dataframe tbody tr th {\n",
       "        vertical-align: top;\n",
       "    }\n",
       "\n",
       "    .dataframe thead th {\n",
       "        text-align: right;\n",
       "    }\n",
       "</style>\n",
       "<table border=\"1\" class=\"dataframe\">\n",
       "  <thead>\n",
       "    <tr style=\"text-align: right;\">\n",
       "      <th></th>\n",
       "      <th>source</th>\n",
       "      <th>headline</th>\n",
       "    </tr>\n",
       "  </thead>\n",
       "  <tbody>\n",
       "    <tr>\n",
       "      <th>0</th>\n",
       "      <td>Aktualne.cz</td>\n",
       "      <td>Další nouzový stav už nebude, ujistil Babiš. O...</td>\n",
       "    </tr>\n",
       "    <tr>\n",
       "      <th>1</th>\n",
       "      <td>Aktualne.cz</td>\n",
       "      <td>Uvolňování opatření je chaotické, míní Kubek. ...</td>\n",
       "    </tr>\n",
       "    <tr>\n",
       "      <th>2</th>\n",
       "      <td>Aktualne.cz</td>\n",
       "      <td>Běžte k lékařům, jinak nás čeká podzim rakovin...</td>\n",
       "    </tr>\n",
       "    <tr>\n",
       "      <th>3</th>\n",
       "      <td>Aktualne.cz</td>\n",
       "      <td>Kolik je potvrzených nakažených v krajích? Akt...</td>\n",
       "    </tr>\n",
       "    <tr>\n",
       "      <th>4</th>\n",
       "      <td>Aktualne.cz</td>\n",
       "      <td>Za podnikatele zaplatíme minimálně třetinu náj...</td>\n",
       "    </tr>\n",
       "    <tr>\n",
       "      <th>3123</th>\n",
       "      <td>iDnes.cz</td>\n",
       "      <td>David Černý navrhl most ve tvaru lokomotivy, s...</td>\n",
       "    </tr>\n",
       "    <tr>\n",
       "      <th>3124</th>\n",
       "      <td>iDnes.cz</td>\n",
       "      <td>Současný způsob ochrany vlků je proti zdravému...</td>\n",
       "    </tr>\n",
       "    <tr>\n",
       "      <th>3125</th>\n",
       "      <td>iDnes.cz</td>\n",
       "      <td>Meteorologové varují před vichrem a mokrým sně...</td>\n",
       "    </tr>\n",
       "    <tr>\n",
       "      <th>3126</th>\n",
       "      <td>iDnes.cz</td>\n",
       "      <td>Nádraží Vyšehrad chce Praha koupit, nebo vyvla...</td>\n",
       "    </tr>\n",
       "    <tr>\n",
       "      <th>3127</th>\n",
       "      <td>iDnes.cz</td>\n",
       "      <td>Obvinění manažeři MPSV do vazby nepůjdou, poli...</td>\n",
       "    </tr>\n",
       "  </tbody>\n",
       "</table>\n",
       "</div>"
      ],
      "text/plain": [
       "           source                                           headline\n",
       "0     Aktualne.cz  Další nouzový stav už nebude, ujistil Babiš. O...\n",
       "1     Aktualne.cz  Uvolňování opatření je chaotické, míní Kubek. ...\n",
       "2     Aktualne.cz  Běžte k lékařům, jinak nás čeká podzim rakovin...\n",
       "3     Aktualne.cz  Kolik je potvrzených nakažených v krajích? Akt...\n",
       "4     Aktualne.cz  Za podnikatele zaplatíme minimálně třetinu náj...\n",
       "3123     iDnes.cz  David Černý navrhl most ve tvaru lokomotivy, s...\n",
       "3124     iDnes.cz  Současný způsob ochrany vlků je proti zdravému...\n",
       "3125     iDnes.cz  Meteorologové varují před vichrem a mokrým sně...\n",
       "3126     iDnes.cz  Nádraží Vyšehrad chce Praha koupit, nebo vyvla...\n",
       "3127     iDnes.cz  Obvinění manažeři MPSV do vazby nepůjdou, poli..."
      ]
     },
     "execution_count": 8,
     "metadata": {},
     "output_type": "execute_result"
    }
   ],
   "source": [
    "# Importing Aktualne.cz headlines\n",
    "headlines_aktualne = pd.read_csv(path_aktualne, usecols=[\"headline\"], encoding=\"utf-8\")\n",
    "headlines_aktualne.insert(0, \"source\", \"Aktualne.cz\")\n",
    "\n",
    "# Importing iDnes.cz headlines\n",
    "headlines_idnes = pd.read_csv(path_idnes, usecols=[\"headline\"], encoding=\"utf-8\")\n",
    "headlines_idnes.insert(0, \"source\", \"iDnes.cz\")\n",
    "\n",
    "# Concat headlines\n",
    "df_headlines = pd.concat([headlines_aktualne, headlines_idnes], ignore_index=True)\n",
    "\n",
    "# Convert pd.DataFrame to H2O DataFrame\n",
    "headlines = h2o.H2OFrame(df_headlines)\n",
    "\n",
    "# Check data\n",
    "pd.concat([df_headlines[:5], df_headlines[-5:]])"
   ]
  },
  {
   "cell_type": "code",
   "execution_count": 9,
   "metadata": {},
   "outputs": [],
   "source": [
    "# Defines the stopwords\n",
    "STOP_WORDS = [\"\", \"ačkoli\",\"ahoj\",\"ale\",\"anebo\",\"ano\",\"asi\",\"aspoň\",\"během\",\"bez\",\"beze\",\"blízko\",\"bohužel\",\"brzo\",\"bude\",\"budeme\",\"budeš\",\"budete\",\"budou\",\"budu\",\"byl\",\"byla\",\"byli\",\"bylo\",\"byly\",\"bys\",\"čau\",\"chce\",\"chceme\",\"chceš\",\"chcete\",\"chci\",\"chtějí\",\"chtít\",\"chut\\u0027\",\"chuti\",\"co\",\"čtrnáct\",\"čtyři\",\"dál\",\"dále\",\"daleko\",\"děkovat\",\"děkujeme\",\"děkuji\",\"den\",\"deset\",\"devatenáct\",\"devět\",\"do\",\"dobrý\",\"docela\",\"dva\",\"dvacet\",\"dvanáct\",\"dvě\",\"hodně\",\"já\",\"jak\",\"jde\",\"je\",\"jeden\",\"jedenáct\",\"jedna\",\"jedno\",\"jednou\",\"jedou\",\"jeho\",\"její\",\"jejich\",\"jemu\",\"jen\",\"jenom\",\"ještě\",\"jestli\",\"jestliže\",\"jí\",\"jich\",\"jím\",\"jimi\",\"jinak\",\"jsem\",\"jsi\",\"jsme\",\"jsou\",\"jste\",\"kam\",\"kde\",\"kdo\",\"kdy\",\"když\",\"ke\",\"kolik\",\"kromě\",\"která\",\"které\",\"kteří\",\"který\",\"kvůli\",\"má\",\"mají\",\"málo\",\"mám\",\"máme\",\"máš\",\"máte\",\"mé\",\"mě\",\"mezi\",\"mí\",\"mít\",\"mně\",\"mnou\",\"moc\",\"mohl\",\"mohou\",\"moje\",\"moji\",\"možná\",\"můj\",\"musí\",\"může\",\"my\",\"na\",\"nad\",\"nade\",\"nám\",\"námi\",\"naproti\",\"nás\",\"náš\",\"naše\",\"naši\",\"ne\",\"ně\",\"nebo\",\"nebyl\",\"nebyla\",\"nebyli\",\"nebyly\",\"něco\",\"nedělá\",\"nedělají\",\"nedělám\",\"neděláme\",\"neděláš\",\"neděláte\",\"nějak\",\"nejsi\",\"někde\",\"někdo\",\"nemají\",\"nemáme\",\"nemáte\",\"neměl\",\"němu\",\"není\",\"nestačí\",\"nevadí\",\"než\",\"nic\",\"nich\",\"ním\",\"nimi\",\"nula\",\"od\",\"ode\",\"on\",\"ona\",\"oni\",\"ono\",\"ony\",\"osm\",\"osmnáct\",\"pak\",\"patnáct\",\"pět\",\"po\",\"pořád\",\"potom\",\"pozdě\",\"před\",\"přes\",\"přese\",\"pro\",\"proč\",\"prosím\",\"prostě\",\"proti\",\"protože\",\"rovně\",\"se\",\"sedm\",\"sedmnáct\",\"šest\",\"šestnáct\",\"skoro\",\"smějí\",\"smí\",\"snad\",\"spolu\",\"sta\",\"sté\",\"sto\",\"ta\",\"tady\",\"tak\",\"takhle\",\"taky\",\"tam\",\"tamhle\",\"tamhleto\",\"tamto\",\"tě\",\"tebe\",\"tebou\",\"ted\\u0027\",\"tedy\",\"ten\",\"ti\",\"tisíc\",\"tisíce\",\"to\",\"tobě\",\"tohle\",\"toto\",\"třeba\",\"tři\",\"třináct\",\"trošku\",\"tvá\",\"tvé\",\"tvoje\",\"tvůj\",\"ty\",\"určitě\",\"už\",\"vám\",\"vámi\",\"vás\",\"váš\",\"vaše\",\"vaši\",\"ve\",\"večer\",\"vedle\",\"vlastně\",\"všechno\",\"všichni\",\"vůbec\",\"vy\",\"vždy\",\"za\",\"zač\",\"zatímco\",\"ze\",\"že\",\"aby\",\"aj\",\"ani\",\"az\",\"budem\",\"budes\",\"by\",\"byt\",\"ci\",\"clanek\",\"clanku\",\"clanky\",\"coz\",\"cz\",\"dalsi\",\"design\",\"dnes\",\"email\",\"ho\",\"jako\",\"jej\",\"jeji\",\"jeste\",\"ji\",\"jine\",\"jiz\",\"jses\",\"kdyz\",\"ktera\",\"ktere\",\"kteri\",\"kterou\",\"ktery\",\"ma\",\"mate\",\"mi\",\"mit\",\"muj\",\"muze\",\"nam\",\"napiste\",\"nas\",\"nasi\",\"nejsou\",\"neni\",\"nez\",\"nove\",\"novy\",\"pod\",\"podle\",\"pokud\",\"pouze\",\"prave\",\"pred\",\"pres\",\"pri\",\"proc\",\"proto\",\"protoze\",\"prvni\",\"pta\",\"re\",\"si\",\"strana\",\"sve\",\"svych\",\"svym\",\"svymi\",\"take\",\"takze\",\"tato\",\"tema\",\"tento\",\"teto\",\"tim\",\"timto\",\"tipy\",\"toho\",\"tohoto\",\"tom\",\"tomto\",\"tomuto\",\"tu\",\"tuto\",\"tyto\",\"uz\",\"vam\",\"vas\",\"vase\",\"vice\",\"vsak\",\"zda\",\"zde\",\"zpet\",\"zpravy\",\"a\",\"aniž\",\"až\",\"být\",\"což\",\"či\",\"článek\",\"článku\",\"články\",\"další\",\"i\",\"jenž\",\"jiné\",\"již\",\"jseš\",\"jšte\",\"k\",\"každý\",\"kteři\",\"ku\",\"me\",\"ná\",\"napište\",\"nechť\",\"ní\",\"nové\",\"nový\",\"o\",\"práve\",\"první\",\"přede\",\"při\",\"s\",\"sice\",\"své\",\"svůj\",\"svých\",\"svým\",\"svými\",\"také\",\"takže\",\"te\",\"těma\",\"této\",\"tím\",\"tímto\",\"u\",\"v\",\"více\",\"však\",\"všechen\",\"z\",\"zpět\",\"zprávy\"]\n",
    "import re\n",
    "# Handles the tokenization\n",
    "def tokenize(sentences, stop_word = STOP_WORDS):\n",
    "    # Handlig Czech chracters, seperate by space instead of regex \"\\\\W+\"\n",
    "    tokenized = sentences.tokenize(\" \")\n",
    "    tokenized = tokenized.rstrip()\n",
    "    tokenized = tokenized.rstrip(\".\")\n",
    "    tokenized = tokenized.rstrip(\",\")\n",
    "    tokenized = tokenized.rstrip(\"!\")\n",
    "    tokenized = tokenized.rstrip(\"?\")\n",
    "    tokenized = tokenized.rstrip(\"-\")\n",
    "\n",
    "    tokenized_cleaned = tokenized\n",
    "    tokenized_lower = tokenized.tolower()\n",
    "    tokenized_filtered = tokenized_lower[(tokenized_lower.nchar() >= 2) | (tokenized_lower.isna()),:]\n",
    "    tokenized_words = tokenized_filtered[tokenized_filtered.grep(\"[0-9]\",invert=True,output_logical=True),:]\n",
    "    tokenized_words = tokenized_words[(tokenized_words.isna()) | (~ tokenized_words.isin(STOP_WORDS)),:]\n",
    "    return tokenized_words"
   ]
  },
  {
   "cell_type": "code",
   "execution_count": 10,
   "metadata": {},
   "outputs": [
    {
     "data": {
      "text/html": [
       "<table>\n",
       "<thead>\n",
       "<tr><th>C1           </th></tr>\n",
       "</thead>\n",
       "<tbody>\n",
       "<tr><td>nouzový      </td></tr>\n",
       "<tr><td>stav         </td></tr>\n",
       "<tr><td>nebude       </td></tr>\n",
       "<tr><td>ujistil      </td></tr>\n",
       "<tr><td>babiš        </td></tr>\n",
       "<tr><td>opatření     </td></tr>\n",
       "<tr><td>resortu      </td></tr>\n",
       "<tr><td>zdravotnictví</td></tr>\n",
       "<tr><td>             </td></tr>\n",
       "<tr><td>uvolňování   </td></tr>\n",
       "</tbody>\n",
       "</table>"
      ]
     },
     "metadata": {},
     "output_type": "display_data"
    },
    {
     "data": {
      "text/plain": [
       "<bound method H2OFrame.describe of >"
      ]
     },
     "execution_count": 10,
     "metadata": {},
     "output_type": "execute_result"
    }
   ],
   "source": [
    "# Breaks down the string to sequence of words\n",
    "words = tokenize(headlines[\"headline\"])\n",
    "words.describe"
   ]
  },
  {
   "cell_type": "code",
   "execution_count": 11,
   "metadata": {},
   "outputs": [
    {
     "name": "stdout",
     "output_type": "stream",
     "text": [
      "word2vec Model Build progress: |██████████████████████████████████████████| 100%\n"
     ]
    }
   ],
   "source": [
    "# Builds word2vec model\n",
    "w2v_model = H2OWord2vecEstimator(sent_sample_rate = 0.0, epochs = 10)\n",
    "w2v_model.train(training_frame=words)"
   ]
  },
  {
   "cell_type": "code",
   "execution_count": 17,
   "metadata": {},
   "outputs": [
    {
     "data": {
      "text/plain": [
       "OrderedDict([('babiš', 0.8831063508987427),\n",
       "             ('hamáček', 0.867557942867279),\n",
       "             ('zvažuje', 0.8301130533218384),\n",
       "             ('vojtěch', 0.8204405307769775),\n",
       "             ('otevřít', 0.8002843260765076),\n",
       "             ('lánech', 0.7884052991867065),\n",
       "             ('normálu', 0.782588005065918),\n",
       "             ('velikonoce', 0.770516037940979),\n",
       "             ('ohledně', 0.7662480473518372),\n",
       "             ('vládě', 0.7650431990623474)])"
      ]
     },
     "execution_count": 17,
     "metadata": {},
     "output_type": "execute_result"
    }
   ],
   "source": [
    "w2v_model.find_synonyms(\"zeman\", count = 10)"
   ]
  },
  {
   "cell_type": "code",
   "execution_count": 18,
   "metadata": {},
   "outputs": [],
   "source": [
    "# Function for prediction\n",
    "def predict(headlines, w2v, gbm):\n",
    "    words = tokenize(h2o.H2OFrame(headlines).ascharacter())\n",
    "    headlines_vec = w2v.transform(words, aggregate_method=\"AVERAGE\")\n",
    "    print(gbm.predict(test_data=headlines_vec))"
   ]
  },
  {
   "cell_type": "code",
   "execution_count": 19,
   "metadata": {},
   "outputs": [],
   "source": [
    "# Calculates a vector for each headline\n",
    "headlines_vecs = w2v_model.transform(words, aggregate_method = \"AVERAGE\")"
   ]
  },
  {
   "cell_type": "code",
   "execution_count": 20,
   "metadata": {},
   "outputs": [
    {
     "name": "stdout",
     "output_type": "stream",
     "text": [
      "gbm Model Build progress: |███████████████████████████████████████████████| 100%\n"
     ]
    }
   ],
   "source": [
    "# Preparing train and validation data\n",
    "valid_headlines = ~ headlines_vecs[\"C1\"].isna()\n",
    "data = headlines[valid_headlines,:].cbind(headlines_vecs[valid_headlines,:])\n",
    "data_split = data.split_frame(ratios=[0.8])\n",
    "\n",
    "# Builds GBM model\n",
    "gbm_model = H2OGradientBoostingEstimator()\n",
    "gbm_model.train(x = headlines_vecs.names,\n",
    "                y=\"source\", \n",
    "                training_frame = data_split[0], \n",
    "                validation_frame = data_split[1])"
   ]
  },
  {
   "cell_type": "code",
   "execution_count": 21,
   "metadata": {},
   "outputs": [
    {
     "name": "stdout",
     "output_type": "stream",
     "text": [
      "Predict!\n",
      "Parse progress: |█████████████████████████████████████████████████████████| 100%\n",
      "gbm prediction progress: |████████████████████████████████████████████████| 100%\n"
     ]
    },
    {
     "data": {
      "text/html": [
       "<table>\n",
       "<thead>\n",
       "<tr><th>predict  </th><th style=\"text-align: right;\">  Aktualne.cz</th><th style=\"text-align: right;\">  iDnes.cz</th></tr>\n",
       "</thead>\n",
       "<tbody>\n",
       "<tr><td>iDnes.cz </td><td style=\"text-align: right;\">     0.443761</td><td style=\"text-align: right;\">  0.556239</td></tr>\n",
       "</tbody>\n",
       "</table>"
      ]
     },
     "metadata": {},
     "output_type": "display_data"
    },
    {
     "name": "stdout",
     "output_type": "stream",
     "text": [
      "\n",
      "None\n"
     ]
    }
   ],
   "source": [
    "print(\"Predict!\")\n",
    "print(predict([\"Justiční aktivista dostal pokutu 50 tisíc za databázi soudních jednání\"], w2v_model, gbm_model))"
   ]
  },
  {
   "cell_type": "code",
   "execution_count": null,
   "metadata": {},
   "outputs": [],
   "source": []
  }
 ],
 "metadata": {
  "kernelspec": {
   "display_name": "Python 3",
   "language": "python",
   "name": "python3"
  },
  "language_info": {
   "codemirror_mode": {
    "name": "ipython",
    "version": 3
   },
   "file_extension": ".py",
   "mimetype": "text/x-python",
   "name": "python",
   "nbconvert_exporter": "python",
   "pygments_lexer": "ipython3",
   "version": "3.7.3"
  }
 },
 "nbformat": 4,
 "nbformat_minor": 2
}
