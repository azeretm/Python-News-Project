{
 "cells": [
  {
   "cell_type": "code",
   "execution_count": 1,
   "metadata": {},
   "outputs": [],
   "source": [
    "import pandas as pd\n",
    "\n",
    "from scripts.downloader import DownloaderAktualne, DownloaderIdnes"
   ]
  },
  {
   "cell_type": "code",
   "execution_count": 2,
   "metadata": {},
   "outputs": [],
   "source": [
    "### Downloading the articles\n",
    "# Config\n",
    "url_aktualne = \"https://zpravy.aktualne.cz/domaci/\"\n",
    "url_idnes = \"https://www.idnes.cz/zpravy/domaci/\"\n",
    "\n",
    "path_aktualne = \"data/articles_Aktualne.cz.csv\"\n",
    "path_idnes = \"data/articles_iDnes.cz.csv\""
   ]
  },
  {
   "cell_type": "code",
   "execution_count": 3,
   "metadata": {},
   "outputs": [
    {
     "name": "stdout",
     "output_type": "stream",
     "text": [
      "Succesfully initialized DownloaderAktualne.\n",
      "Succesfully initialized DownloaderIdnes.\n"
     ]
    }
   ],
   "source": [
    "# Init verbose DownloaderAktualne and DownloaderIdnes\n",
    "d_aktualne = DownloaderAktualne(url_aktualne, save_to=path_aktualne, verbose=True)\n",
    "d_idnes = DownloaderIdnes(url_idnes, save_to=path_idnes, verbose=True)"
   ]
  },
  {
   "cell_type": "code",
   "execution_count": 4,
   "metadata": {
    "scrolled": false
   },
   "outputs": [
    {
     "name": "stderr",
     "output_type": "stream",
     "text": [
      "  4%|▍         | 30/672 [00:49<20:50,  1.95s/it]"
     ]
    },
    {
     "name": "stdout",
     "output_type": "stream",
     "text": [
      "1. bulk of articles successfully downloaded.\n"
     ]
    },
    {
     "name": "stderr",
     "output_type": "stream",
     "text": [
      "  9%|▉         | 60/672 [01:31<19:36,  1.92s/it]"
     ]
    },
    {
     "name": "stdout",
     "output_type": "stream",
     "text": [
      "2. bulk of articles successfully downloaded.\n"
     ]
    },
    {
     "name": "stderr",
     "output_type": "stream",
     "text": [
      " 13%|█▎        | 90/672 [02:21<35:07,  3.62s/it]"
     ]
    },
    {
     "name": "stdout",
     "output_type": "stream",
     "text": [
      "3. bulk of articles successfully downloaded.\n"
     ]
    },
    {
     "name": "stderr",
     "output_type": "stream",
     "text": [
      " 18%|█▊        | 120/672 [03:06<21:35,  2.35s/it]"
     ]
    },
    {
     "name": "stdout",
     "output_type": "stream",
     "text": [
      "4. bulk of articles successfully downloaded.\n"
     ]
    },
    {
     "name": "stderr",
     "output_type": "stream",
     "text": [
      " 22%|██▏       | 150/672 [04:05<21:43,  2.50s/it]"
     ]
    },
    {
     "name": "stdout",
     "output_type": "stream",
     "text": [
      "5. bulk of articles successfully downloaded.\n"
     ]
    },
    {
     "name": "stderr",
     "output_type": "stream",
     "text": [
      " 27%|██▋       | 180/672 [04:59<19:12,  2.34s/it]"
     ]
    },
    {
     "name": "stdout",
     "output_type": "stream",
     "text": [
      "6. bulk of articles successfully downloaded.\n"
     ]
    },
    {
     "name": "stderr",
     "output_type": "stream",
     "text": [
      " 31%|███▏      | 210/672 [05:57<18:06,  2.35s/it]"
     ]
    },
    {
     "name": "stdout",
     "output_type": "stream",
     "text": [
      "7. bulk of articles successfully downloaded.\n"
     ]
    },
    {
     "name": "stderr",
     "output_type": "stream",
     "text": [
      " 36%|███▌      | 240/672 [06:54<17:13,  2.39s/it]"
     ]
    },
    {
     "name": "stdout",
     "output_type": "stream",
     "text": [
      "8. bulk of articles successfully downloaded.\n"
     ]
    },
    {
     "name": "stderr",
     "output_type": "stream",
     "text": [
      " 40%|████      | 270/672 [07:52<15:24,  2.30s/it]"
     ]
    },
    {
     "name": "stdout",
     "output_type": "stream",
     "text": [
      "9. bulk of articles successfully downloaded.\n"
     ]
    },
    {
     "name": "stderr",
     "output_type": "stream",
     "text": [
      " 45%|████▍     | 300/672 [08:45<14:45,  2.38s/it]"
     ]
    },
    {
     "name": "stdout",
     "output_type": "stream",
     "text": [
      "10. bulk of articles successfully downloaded.\n"
     ]
    },
    {
     "name": "stderr",
     "output_type": "stream",
     "text": [
      " 49%|████▉     | 330/672 [09:41<13:00,  2.28s/it]"
     ]
    },
    {
     "name": "stdout",
     "output_type": "stream",
     "text": [
      "11. bulk of articles successfully downloaded.\n"
     ]
    },
    {
     "name": "stderr",
     "output_type": "stream",
     "text": [
      " 54%|█████▎    | 360/672 [10:33<12:24,  2.39s/it]"
     ]
    },
    {
     "name": "stdout",
     "output_type": "stream",
     "text": [
      "12. bulk of articles successfully downloaded.\n"
     ]
    },
    {
     "name": "stderr",
     "output_type": "stream",
     "text": [
      " 58%|█████▊    | 390/672 [11:29<11:27,  2.44s/it]"
     ]
    },
    {
     "name": "stdout",
     "output_type": "stream",
     "text": [
      "13. bulk of articles successfully downloaded.\n"
     ]
    },
    {
     "name": "stderr",
     "output_type": "stream",
     "text": [
      " 62%|██████▎   | 420/672 [12:25<09:58,  2.38s/it]"
     ]
    },
    {
     "name": "stdout",
     "output_type": "stream",
     "text": [
      "14. bulk of articles successfully downloaded.\n"
     ]
    },
    {
     "name": "stderr",
     "output_type": "stream",
     "text": [
      " 67%|██████▋   | 450/672 [13:23<09:20,  2.53s/it]"
     ]
    },
    {
     "name": "stdout",
     "output_type": "stream",
     "text": [
      "15. bulk of articles successfully downloaded.\n"
     ]
    },
    {
     "name": "stderr",
     "output_type": "stream",
     "text": [
      " 71%|███████▏  | 480/672 [14:21<07:27,  2.33s/it]"
     ]
    },
    {
     "name": "stdout",
     "output_type": "stream",
     "text": [
      "16. bulk of articles successfully downloaded.\n"
     ]
    },
    {
     "name": "stderr",
     "output_type": "stream",
     "text": [
      " 76%|███████▌  | 510/672 [15:16<07:28,  2.77s/it]"
     ]
    },
    {
     "name": "stdout",
     "output_type": "stream",
     "text": [
      "17. bulk of articles successfully downloaded.\n"
     ]
    },
    {
     "name": "stderr",
     "output_type": "stream",
     "text": [
      " 80%|████████  | 540/672 [16:11<05:20,  2.43s/it]"
     ]
    },
    {
     "name": "stdout",
     "output_type": "stream",
     "text": [
      "18. bulk of articles successfully downloaded.\n"
     ]
    },
    {
     "name": "stderr",
     "output_type": "stream",
     "text": [
      " 85%|████████▍ | 570/672 [17:14<05:28,  3.22s/it]"
     ]
    },
    {
     "name": "stdout",
     "output_type": "stream",
     "text": [
      "19. bulk of articles successfully downloaded.\n"
     ]
    },
    {
     "name": "stderr",
     "output_type": "stream",
     "text": [
      " 89%|████████▉ | 600/672 [18:12<02:54,  2.43s/it]"
     ]
    },
    {
     "name": "stdout",
     "output_type": "stream",
     "text": [
      "20. bulk of articles successfully downloaded.\n"
     ]
    },
    {
     "name": "stderr",
     "output_type": "stream",
     "text": [
      " 94%|█████████▍| 630/672 [19:09<01:54,  2.72s/it]"
     ]
    },
    {
     "name": "stdout",
     "output_type": "stream",
     "text": [
      "21. bulk of articles successfully downloaded.\n"
     ]
    },
    {
     "name": "stderr",
     "output_type": "stream",
     "text": [
      " 98%|█████████▊| 660/672 [20:04<00:29,  2.42s/it]"
     ]
    },
    {
     "name": "stdout",
     "output_type": "stream",
     "text": [
      "22. bulk of articles successfully downloaded.\n"
     ]
    },
    {
     "name": "stderr",
     "output_type": "stream",
     "text": [
      "100%|██████████| 672/672 [20:27<00:00,  1.94s/it]\n"
     ]
    },
    {
     "name": "stdout",
     "output_type": "stream",
     "text": [
      "Articles were successfully downloaded. Access DataFrame '.articles_df' or json list '.articles'.\n"
     ]
    }
   ],
   "source": [
    "# Download demo\n",
    "#d_aktualne.downloadHeadlines(from_page = 1, to_page = 1315, bulk_size = 30)\n",
    "#d_aktualne.downloadHeadlines(from_page = 1000, to_page = 1025, bulk_size = 30)\n",
    "#d_aktualne.saveToCsv()\n",
    "\n",
    "#d_idnes.downloadHeadlines(from_page = 1, to_page = 672, bulk_size = 30)\n",
    "#d_idnes.downloadHeadlines(from_page = 1, to_page = 20, bulk_size = 30)\n",
    "#d_idnes.saveToCsv()\n",
    "\n",
    "#pd.concat([d_aktualne.articles_df[100:102], d_idnes.articles_df[40:42]])"
   ]
  },
  {
   "cell_type": "code",
   "execution_count": null,
   "metadata": {},
   "outputs": [],
   "source": [
    "articles = pd.read_csv(path_idnes)"
   ]
  },
  {
   "cell_type": "code",
   "execution_count": null,
   "metadata": {},
   "outputs": [],
   "source": [
    "### Headlines Analysis"
   ]
  },
  {
   "cell_type": "code",
   "execution_count": 5,
   "metadata": {},
   "outputs": [
    {
     "name": "stdout",
     "output_type": "stream",
     "text": [
      "Checking whether there is an H2O instance running at http://localhost:54321 ..... not found.\n",
      "Attempting to start a local H2O server...\n",
      "  Java Version: java version \"13.0.2\" 2020-01-14; Java(TM) SE Runtime Environment (build 13.0.2+8); Java HotSpot(TM) 64-Bit Server VM (build 13.0.2+8, mixed mode, sharing)\n",
      "  Starting server from /anaconda3/lib/python3.7/site-packages/h2o/backend/bin/h2o.jar\n",
      "  Ice root: /var/folders/c4/jxchjt990lg9002_rg92j8tr0000gn/T/tmpm4a2gogx\n",
      "  JVM stdout: /var/folders/c4/jxchjt990lg9002_rg92j8tr0000gn/T/tmpm4a2gogx/h2o_simon_started_from_python.out\n",
      "  JVM stderr: /var/folders/c4/jxchjt990lg9002_rg92j8tr0000gn/T/tmpm4a2gogx/h2o_simon_started_from_python.err\n",
      "  Server is running at http://127.0.0.1:54321\n",
      "Connecting to H2O server at http://127.0.0.1:54321 ... successful.\n"
     ]
    },
    {
     "data": {
      "text/html": [
       "<div style=\"overflow:auto\"><table style=\"width:50%\"><tr><td>H2O_cluster_uptime:</td>\n",
       "<td>03 secs</td></tr>\n",
       "<tr><td>H2O_cluster_timezone:</td>\n",
       "<td>Europe/Prague</td></tr>\n",
       "<tr><td>H2O_data_parsing_timezone:</td>\n",
       "<td>UTC</td></tr>\n",
       "<tr><td>H2O_cluster_version:</td>\n",
       "<td>3.30.0.1</td></tr>\n",
       "<tr><td>H2O_cluster_version_age:</td>\n",
       "<td>1 month and 7 days </td></tr>\n",
       "<tr><td>H2O_cluster_name:</td>\n",
       "<td>H2O_from_python_simon_m5enza</td></tr>\n",
       "<tr><td>H2O_cluster_total_nodes:</td>\n",
       "<td>1</td></tr>\n",
       "<tr><td>H2O_cluster_free_memory:</td>\n",
       "<td>2 Gb</td></tr>\n",
       "<tr><td>H2O_cluster_total_cores:</td>\n",
       "<td>4</td></tr>\n",
       "<tr><td>H2O_cluster_allowed_cores:</td>\n",
       "<td>4</td></tr>\n",
       "<tr><td>H2O_cluster_status:</td>\n",
       "<td>accepting new members, healthy</td></tr>\n",
       "<tr><td>H2O_connection_url:</td>\n",
       "<td>http://127.0.0.1:54321</td></tr>\n",
       "<tr><td>H2O_connection_proxy:</td>\n",
       "<td>{\"http\": null, \"https\": null}</td></tr>\n",
       "<tr><td>H2O_internal_security:</td>\n",
       "<td>False</td></tr>\n",
       "<tr><td>H2O_API_Extensions:</td>\n",
       "<td>Amazon S3, XGBoost, Algos, AutoML, Core V3, TargetEncoder, Core V4</td></tr>\n",
       "<tr><td>Python_version:</td>\n",
       "<td>3.7.3 final</td></tr></table></div>"
      ],
      "text/plain": [
       "--------------------------  ------------------------------------------------------------------\n",
       "H2O_cluster_uptime:         03 secs\n",
       "H2O_cluster_timezone:       Europe/Prague\n",
       "H2O_data_parsing_timezone:  UTC\n",
       "H2O_cluster_version:        3.30.0.1\n",
       "H2O_cluster_version_age:    1 month and 7 days\n",
       "H2O_cluster_name:           H2O_from_python_simon_m5enza\n",
       "H2O_cluster_total_nodes:    1\n",
       "H2O_cluster_free_memory:    2 Gb\n",
       "H2O_cluster_total_cores:    4\n",
       "H2O_cluster_allowed_cores:  4\n",
       "H2O_cluster_status:         accepting new members, healthy\n",
       "H2O_connection_url:         http://127.0.0.1:54321\n",
       "H2O_connection_proxy:       {\"http\": null, \"https\": null}\n",
       "H2O_internal_security:      False\n",
       "H2O_API_Extensions:         Amazon S3, XGBoost, Algos, AutoML, Core V3, TargetEncoder, Core V4\n",
       "Python_version:             3.7.3 final\n",
       "--------------------------  ------------------------------------------------------------------"
      ]
     },
     "metadata": {},
     "output_type": "display_data"
    }
   ],
   "source": [
    "# Word2vec model\n",
    "import h2o\n",
    "h2o.init()\n",
    "from h2o.estimators.word2vec import H2OWord2vecEstimator\n",
    "from h2o.estimators.gbm import H2OGradientBoostingEstimator"
   ]
  },
  {
   "cell_type": "code",
   "execution_count": 6,
   "metadata": {},
   "outputs": [
    {
     "name": "stdout",
     "output_type": "stream",
     "text": [
      "Parse progress: |█████████████████████████████████████████████████████████| 100%\n",
      "Parse progress: |█████████████████████████████████████████████████████████| 100%\n",
      "Parse progress: |█████████████████████████████████████████████████████████| 100%\n"
     ]
    },
    {
     "data": {
      "text/html": [
       "<div>\n",
       "<style scoped>\n",
       "    .dataframe tbody tr th:only-of-type {\n",
       "        vertical-align: middle;\n",
       "    }\n",
       "\n",
       "    .dataframe tbody tr th {\n",
       "        vertical-align: top;\n",
       "    }\n",
       "\n",
       "    .dataframe thead th {\n",
       "        text-align: right;\n",
       "    }\n",
       "</style>\n",
       "<table border=\"1\" class=\"dataframe\">\n",
       "  <thead>\n",
       "    <tr style=\"text-align: right;\">\n",
       "      <th></th>\n",
       "      <th>source</th>\n",
       "      <th>headline</th>\n",
       "    </tr>\n",
       "  </thead>\n",
       "  <tbody>\n",
       "    <tr>\n",
       "      <th>0</th>\n",
       "      <td>Aktualne.cz</td>\n",
       "      <td>Chceme vyšetřovací komisi k nákupu ochranných ...</td>\n",
       "    </tr>\n",
       "    <tr>\n",
       "      <th>1</th>\n",
       "      <td>Aktualne.cz</td>\n",
       "      <td>ANO si drží podporu 34 procent. Druzí jsou Pir...</td>\n",
       "    </tr>\n",
       "    <tr>\n",
       "      <th>2</th>\n",
       "      <td>Aktualne.cz</td>\n",
       "      <td>Většinu Česka zasáhne v pondělí silný vítr, na...</td>\n",
       "    </tr>\n",
       "    <tr>\n",
       "      <th>3</th>\n",
       "      <td>Aktualne.cz</td>\n",
       "      <td>Hasiči v Praze hasili požár odpadu v kovošrotu...</td>\n",
       "    </tr>\n",
       "    <tr>\n",
       "      <th>4</th>\n",
       "      <td>Aktualne.cz</td>\n",
       "      <td>Ve Wu-chanu je po měsíci první nakažený. Dopra...</td>\n",
       "    </tr>\n",
       "    <tr>\n",
       "      <th>48640</th>\n",
       "      <td>iDnes.cz</td>\n",
       "      <td>Sbohem, Pavle. Šokovaný rodný Bohumín se loučí...</td>\n",
       "    </tr>\n",
       "    <tr>\n",
       "      <th>48641</th>\n",
       "      <td>iDnes.cz</td>\n",
       "      <td>Drzej jako vopice, tygr v masně i průjem. Aneb...</td>\n",
       "    </tr>\n",
       "    <tr>\n",
       "      <th>48642</th>\n",
       "      <td>iDnes.cz</td>\n",
       "      <td>Nechoďte do práce, vzkázalo ministerstvo exšéf...</td>\n",
       "    </tr>\n",
       "    <tr>\n",
       "      <th>48643</th>\n",
       "      <td>iDnes.cz</td>\n",
       "      <td>Chebský babybox se po letech poprvé ozval, lež...</td>\n",
       "    </tr>\n",
       "    <tr>\n",
       "      <th>48644</th>\n",
       "      <td>iDnes.cz</td>\n",
       "      <td>O silvestru přijde ledovka, varují meteorologo...</td>\n",
       "    </tr>\n",
       "  </tbody>\n",
       "</table>\n",
       "</div>"
      ],
      "text/plain": [
       "            source                                           headline\n",
       "0      Aktualne.cz  Chceme vyšetřovací komisi k nákupu ochranných ...\n",
       "1      Aktualne.cz  ANO si drží podporu 34 procent. Druzí jsou Pir...\n",
       "2      Aktualne.cz  Většinu Česka zasáhne v pondělí silný vítr, na...\n",
       "3      Aktualne.cz  Hasiči v Praze hasili požár odpadu v kovošrotu...\n",
       "4      Aktualne.cz  Ve Wu-chanu je po měsíci první nakažený. Dopra...\n",
       "48640     iDnes.cz  Sbohem, Pavle. Šokovaný rodný Bohumín se loučí...\n",
       "48641     iDnes.cz  Drzej jako vopice, tygr v masně i průjem. Aneb...\n",
       "48642     iDnes.cz  Nechoďte do práce, vzkázalo ministerstvo exšéf...\n",
       "48643     iDnes.cz  Chebský babybox se po letech poprvé ozval, lež...\n",
       "48644     iDnes.cz  O silvestru přijde ledovka, varují meteorologo..."
      ]
     },
     "execution_count": 6,
     "metadata": {},
     "output_type": "execute_result"
    }
   ],
   "source": [
    "# Importing Aktualne.cz headlines\n",
    "headlines_aktualne = pd.read_csv(path_aktualne, usecols=[\"headline\"], encoding=\"utf-8\")\n",
    "headlines_aktualne.insert(0, \"source\", \"Aktualne.cz\")\n",
    "\n",
    "# Importing iDnes.cz headlines\n",
    "headlines_idnes = pd.read_csv(path_idnes, usecols=[\"headline\"], encoding=\"utf-8\")\n",
    "headlines_idnes.insert(0, \"source\", \"iDnes.cz\")\n",
    "\n",
    "# Concat headlines\n",
    "df_headlines = pd.concat([headlines_aktualne, headlines_idnes], ignore_index=True)\n",
    "\n",
    "# Convert pd.DataFrame to H2O DataFrame\n",
    "headlines = h2o.H2OFrame(df_headlines)\n",
    "\n",
    "headlines_aktualne = h2o.H2OFrame(headlines_aktualne)\n",
    "headlines_idnes = h2o.H2OFrame(headlines_idnes)\n",
    "\n",
    "# Check data\n",
    "pd.concat([df_headlines[:5], df_headlines[-5:]])"
   ]
  },
  {
   "cell_type": "code",
   "execution_count": 15,
   "metadata": {},
   "outputs": [],
   "source": [
    "# Defines the stopwords\n",
    "STOP_WORDS = [\"bych\", \"\", \"ačkoli\",\"ahoj\",\"ale\",\"anebo\",\"ano\",\"asi\",\"aspoň\",\"během\",\"bez\",\"beze\",\"blízko\",\"bohužel\",\"brzo\",\"bude\",\"budeme\",\"budeš\",\"budete\",\"budou\",\"budu\",\"byl\",\"byla\",\"byli\",\"bylo\",\"byly\",\"bys\",\"čau\",\"chce\",\"chceme\",\"chceš\",\"chcete\",\"chci\",\"chtějí\",\"chtít\",\"chut\\u0027\",\"chuti\",\"co\",\"čtrnáct\",\"čtyři\",\"dál\",\"dále\",\"daleko\",\"děkovat\",\"děkujeme\",\"děkuji\",\"den\",\"deset\",\"devatenáct\",\"devět\",\"do\",\"dobrý\",\"docela\",\"dva\",\"dvacet\",\"dvanáct\",\"dvě\",\"hodně\",\"já\",\"jak\",\"jde\",\"je\",\"jeden\",\"jedenáct\",\"jedna\",\"jedno\",\"jednou\",\"jedou\",\"jeho\",\"její\",\"jejich\",\"jemu\",\"jen\",\"jenom\",\"ještě\",\"jestli\",\"jestliže\",\"jí\",\"jich\",\"jím\",\"jimi\",\"jinak\",\"jsem\",\"jsi\",\"jsme\",\"jsou\",\"jste\",\"kam\",\"kde\",\"kdo\",\"kdy\",\"když\",\"ke\",\"kolik\",\"kromě\",\"která\",\"které\",\"kteří\",\"který\",\"kvůli\",\"má\",\"mají\",\"málo\",\"mám\",\"máme\",\"máš\",\"máte\",\"mé\",\"mě\",\"mezi\",\"mí\",\"mít\",\"mně\",\"mnou\",\"moc\",\"mohl\",\"mohou\",\"moje\",\"moji\",\"možná\",\"můj\",\"musí\",\"může\",\"my\",\"na\",\"nad\",\"nade\",\"nám\",\"námi\",\"naproti\",\"nás\",\"náš\",\"naše\",\"naši\",\"ne\",\"ně\",\"nebo\",\"nebyl\",\"nebyla\",\"nebyli\",\"nebyly\",\"něco\",\"nedělá\",\"nedělají\",\"nedělám\",\"neděláme\",\"neděláš\",\"neděláte\",\"nějak\",\"nejsi\",\"někde\",\"někdo\",\"nemají\",\"nemáme\",\"nemáte\",\"neměl\",\"němu\",\"není\",\"nestačí\",\"nevadí\",\"než\",\"nic\",\"nich\",\"ním\",\"nimi\",\"nula\",\"od\",\"ode\",\"on\",\"ona\",\"oni\",\"ono\",\"ony\",\"osm\",\"osmnáct\",\"pak\",\"patnáct\",\"pět\",\"po\",\"pořád\",\"potom\",\"pozdě\",\"před\",\"přes\",\"přese\",\"pro\",\"proč\",\"prosím\",\"prostě\",\"proti\",\"protože\",\"rovně\",\"se\",\"sedm\",\"sedmnáct\",\"šest\",\"šestnáct\",\"skoro\",\"smějí\",\"smí\",\"snad\",\"spolu\",\"sta\",\"sté\",\"sto\",\"ta\",\"tady\",\"tak\",\"takhle\",\"taky\",\"tam\",\"tamhle\",\"tamhleto\",\"tamto\",\"tě\",\"tebe\",\"tebou\",\"ted\\u0027\",\"tedy\",\"ten\",\"ti\",\"tisíc\",\"tisíce\",\"to\",\"tobě\",\"tohle\",\"toto\",\"třeba\",\"tři\",\"třináct\",\"trošku\",\"tvá\",\"tvé\",\"tvoje\",\"tvůj\",\"ty\",\"určitě\",\"už\",\"vám\",\"vámi\",\"vás\",\"váš\",\"vaše\",\"vaši\",\"ve\",\"večer\",\"vedle\",\"vlastně\",\"všechno\",\"všichni\",\"vůbec\",\"vy\",\"vždy\",\"za\",\"zač\",\"zatímco\",\"ze\",\"že\",\"aby\",\"aj\",\"ani\",\"az\",\"budem\",\"budes\",\"by\",\"byt\",\"ci\",\"clanek\",\"clanku\",\"clanky\",\"coz\",\"cz\",\"dalsi\",\"design\",\"dnes\",\"email\",\"ho\",\"jako\",\"jej\",\"jeji\",\"jeste\",\"ji\",\"jine\",\"jiz\",\"jses\",\"kdyz\",\"ktera\",\"ktere\",\"kteri\",\"kterou\",\"ktery\",\"ma\",\"mate\",\"mi\",\"mit\",\"muj\",\"muze\",\"nam\",\"napiste\",\"nas\",\"nasi\",\"nejsou\",\"neni\",\"nez\",\"nove\",\"novy\",\"pod\",\"podle\",\"pokud\",\"pouze\",\"prave\",\"pred\",\"pres\",\"pri\",\"proc\",\"proto\",\"protoze\",\"prvni\",\"pta\",\"re\",\"si\",\"strana\",\"sve\",\"svych\",\"svym\",\"svymi\",\"take\",\"takze\",\"tato\",\"tema\",\"tento\",\"teto\",\"tim\",\"timto\",\"tipy\",\"toho\",\"tohoto\",\"tom\",\"tomto\",\"tomuto\",\"tu\",\"tuto\",\"tyto\",\"uz\",\"vam\",\"vas\",\"vase\",\"vice\",\"vsak\",\"zda\",\"zde\",\"zpet\",\"zpravy\",\"a\",\"aniž\",\"až\",\"být\",\"což\",\"či\",\"článek\",\"článku\",\"články\",\"další\",\"i\",\"jenž\",\"jiné\",\"již\",\"jseš\",\"jšte\",\"k\",\"každý\",\"kteři\",\"ku\",\"me\",\"ná\",\"napište\",\"nechť\",\"ní\",\"nové\",\"nový\",\"o\",\"práve\",\"první\",\"přede\",\"při\",\"s\",\"sice\",\"své\",\"svůj\",\"svých\",\"svým\",\"svými\",\"také\",\"takže\",\"te\",\"těma\",\"této\",\"tím\",\"tímto\",\"u\",\"v\",\"více\",\"však\",\"všechen\",\"z\",\"zpět\",\"zprávy\"]\n",
    "\n",
    "# Handles the tokenization\n",
    "def tokenize(sentences, stop_word = STOP_WORDS):\n",
    "    # Handlig Czech chracters, seperate by space instead of regex \"\\\\W+\"\n",
    "    tokenized = sentences.tokenize(\" \")\n",
    "    tokenized = tokenized.rstrip()\n",
    "    tokenized = tokenized.rstrip(\".\")\n",
    "    tokenized = tokenized.rstrip(\",\")\n",
    "    tokenized = tokenized.rstrip(\"!\")\n",
    "    tokenized = tokenized.rstrip(\"?\")\n",
    "    tokenized = tokenized.rstrip(\"-\")\n",
    "    tokenized = tokenized.rstrip(\":\")\n",
    "\n",
    "    tokenized_cleaned = tokenized\n",
    "    tokenized_lower = tokenized.tolower()\n",
    "    tokenized_filtered = tokenized_lower[(tokenized_lower.nchar() >= 2) | (tokenized_lower.isna()),:]\n",
    "    tokenized_words = tokenized_filtered[tokenized_filtered.grep(\"[0-9]\",invert=True,output_logical=True),:]\n",
    "    tokenized_words = tokenized_words[(tokenized_words.isna()) | (~ tokenized_words.isin(STOP_WORDS)),:]\n",
    "    \n",
    "    return tokenized_words"
   ]
  },
  {
   "cell_type": "code",
   "execution_count": 16,
   "metadata": {},
   "outputs": [
    {
     "data": {
      "text/html": [
       "<table>\n",
       "<thead>\n",
       "<tr><th>C1         </th></tr>\n",
       "</thead>\n",
       "<tbody>\n",
       "<tr><td>vyšetřovací</td></tr>\n",
       "<tr><td>komisi     </td></tr>\n",
       "<tr><td>nákupu     </td></tr>\n",
       "<tr><td>ochranných </td></tr>\n",
       "<tr><td>pomůcek    </td></tr>\n",
       "<tr><td>shodla     </td></tr>\n",
       "<tr><td>opozice    </td></tr>\n",
       "<tr><td>           </td></tr>\n",
       "<tr><td>drží       </td></tr>\n",
       "<tr><td>podporu    </td></tr>\n",
       "</tbody>\n",
       "</table>"
      ]
     },
     "metadata": {},
     "output_type": "display_data"
    },
    {
     "data": {
      "text/plain": [
       "<bound method H2OFrame.describe of >"
      ]
     },
     "execution_count": 16,
     "metadata": {},
     "output_type": "execute_result"
    }
   ],
   "source": [
    "# Breaks down the string to sequence of words\n",
    "words = tokenize(headlines[\"headline\"])\n",
    "\n",
    "words_aktualne = tokenize(headlines_aktualne[\"headline\"])\n",
    "words_idnes = tokenize(headlines_idnes[\"headline\"])\n",
    "\n",
    "words.describe"
   ]
  },
  {
   "cell_type": "code",
   "execution_count": 17,
   "metadata": {},
   "outputs": [
    {
     "name": "stdout",
     "output_type": "stream",
     "text": [
      "word2vec Model Build progress: |██████████████████████████████████████████| 100%\n",
      "word2vec Model Build progress: |██████████████████████████████████████████| 100%\n",
      "word2vec Model Build progress: |██████████████████████████████████████████| 100%\n"
     ]
    }
   ],
   "source": [
    "# Builds word2vec model\n",
    "w2v_model = H2OWord2vecEstimator(sent_sample_rate = 0.0, epochs = 10)\n",
    "w2v_model.train(training_frame=words)\n",
    "\n",
    "w2v_model_aktualne = H2OWord2vecEstimator(sent_sample_rate = 0.0, epochs = 10)\n",
    "w2v_model_aktualne.train(training_frame=words_aktualne)\n",
    "\n",
    "w2v_model_idnes = H2OWord2vecEstimator(sent_sample_rate = 0.0, epochs = 10)\n",
    "w2v_model_idnes.train(training_frame=words_idnes)"
   ]
  },
  {
   "cell_type": "code",
   "execution_count": 37,
   "metadata": {},
   "outputs": [
    {
     "data": {
      "text/plain": [
       "OrderedDict([('prezident', 0.7113898992538452),\n",
       "             ('zemana', 0.6262038946151733),\n",
       "             ('ovčáček', 0.6031755208969116),\n",
       "             ('setkání', 0.6013031601905823),\n",
       "             ('prezidentovi', 0.5973954796791077),\n",
       "             ('trumpem', 0.586336076259613),\n",
       "             ('hrad', 0.5849317908287048),\n",
       "             ('zemanem', 0.5761421918869019),\n",
       "             ('prezidentem', 0.5731377005577087),\n",
       "             ('lánech', 0.5601051449775696)])"
      ]
     },
     "execution_count": 37,
     "metadata": {},
     "output_type": "execute_result"
    }
   ],
   "source": [
    "w2v_model_aktualne.find_synonyms(\"zeman\", count = 10)"
   ]
  },
  {
   "cell_type": "code",
   "execution_count": 38,
   "metadata": {},
   "outputs": [
    {
     "data": {
      "text/plain": [
       "OrderedDict([('prezident', 0.7058337330818176),\n",
       "             ('zemanem', 0.6057798266410828),\n",
       "             ('ministry', 0.5855046510696411),\n",
       "             ('premiér', 0.5831684470176697),\n",
       "             ('zaorálek', 0.5779842138290405),\n",
       "             ('benešové', 0.5610582232475281),\n",
       "             ('trumpem', 0.557375431060791),\n",
       "             ('zemana', 0.5520957708358765),\n",
       "             ('topolánek', 0.5520046353340149),\n",
       "             ('kalousek', 0.5469446778297424)])"
      ]
     },
     "execution_count": 38,
     "metadata": {},
     "output_type": "execute_result"
    }
   ],
   "source": [
    "w2v_model_idnes.find_synonyms(\"zeman\", count = 10)"
   ]
  },
  {
   "cell_type": "code",
   "execution_count": 39,
   "metadata": {},
   "outputs": [],
   "source": [
    "# Function for prediction\n",
    "def predict(headlines, w2v, gbm):\n",
    "    words = tokenize(h2o.H2OFrame(headlines).ascharacter())\n",
    "    headlines_vec = w2v.transform(words, aggregate_method=\"AVERAGE\")\n",
    "    print(gbm.predict(test_data=headlines_vec))"
   ]
  },
  {
   "cell_type": "code",
   "execution_count": 40,
   "metadata": {},
   "outputs": [],
   "source": [
    "# Calculates a vector for each headline\n",
    "headlines_vecs = w2v_model.transform(words, aggregate_method = \"AVERAGE\")"
   ]
  },
  {
   "cell_type": "code",
   "execution_count": 41,
   "metadata": {},
   "outputs": [
    {
     "name": "stdout",
     "output_type": "stream",
     "text": [
      "gbm Model Build progress: |███████████████████████████████████████████████| 100%\n"
     ]
    }
   ],
   "source": [
    "# Preparing train and validation data\n",
    "valid_headlines = ~ headlines_vecs[\"C1\"].isna()\n",
    "data = headlines[valid_headlines,:].cbind(headlines_vecs[valid_headlines,:])\n",
    "data_split = data.split_frame(ratios=[0.8])\n",
    "\n",
    "# Builds GBM model\n",
    "gbm_model = H2OGradientBoostingEstimator()\n",
    "gbm_model.train(x = headlines_vecs.names,\n",
    "                y=\"source\", \n",
    "                training_frame = data_split[0], \n",
    "                validation_frame = data_split[1])"
   ]
  },
  {
   "cell_type": "code",
   "execution_count": 43,
   "metadata": {},
   "outputs": [
    {
     "name": "stdout",
     "output_type": "stream",
     "text": [
      "Predict!\n",
      "Parse progress: |█████████████████████████████████████████████████████████| 100%\n",
      "gbm prediction progress: |████████████████████████████████████████████████| 100%\n"
     ]
    },
    {
     "data": {
      "text/html": [
       "<table>\n",
       "<thead>\n",
       "<tr><th>predict  </th><th style=\"text-align: right;\">  Aktualne.cz</th><th style=\"text-align: right;\">  iDnes.cz</th></tr>\n",
       "</thead>\n",
       "<tbody>\n",
       "<tr><td>iDnes.cz </td><td style=\"text-align: right;\">     0.336248</td><td style=\"text-align: right;\">  0.663752</td></tr>\n",
       "</tbody>\n",
       "</table>"
      ]
     },
     "metadata": {},
     "output_type": "display_data"
    },
    {
     "name": "stdout",
     "output_type": "stream",
     "text": [
      "\n",
      "None\n"
     ]
    }
   ],
   "source": [
    "print(\"Predict!\")\n",
    "print(predict([\"Šíříte paniku. Tisíce Němců protestovaly proti koronavirovým restrikcím\"], w2v_model, gbm_model))"
   ]
  },
  {
   "cell_type": "code",
   "execution_count": null,
   "metadata": {},
   "outputs": [],
   "source": []
  }
 ],
 "metadata": {
  "kernelspec": {
   "display_name": "Python 3",
   "language": "python",
   "name": "python3"
  },
  "language_info": {
   "codemirror_mode": {
    "name": "ipython",
    "version": 3
   },
   "file_extension": ".py",
   "mimetype": "text/x-python",
   "name": "python",
   "nbconvert_exporter": "python",
   "pygments_lexer": "ipython3",
   "version": "3.7.3"
  }
 },
 "nbformat": 4,
 "nbformat_minor": 2
}
