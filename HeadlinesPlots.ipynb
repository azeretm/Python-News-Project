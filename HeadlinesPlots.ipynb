{
 "cells": [
  {
   "cell_type": "code",
   "execution_count": 1,
   "metadata": {},
   "outputs": [],
   "source": [
    "import pandas as pd\n",
    "import plotly.graph_objects as go\n",
    "from datetime import datetime\n",
    "\n",
    "from scripts.visualizer import Visualizer"
   ]
  },
  {
   "cell_type": "code",
   "execution_count": 30,
   "metadata": {},
   "outputs": [
    {
     "name": "stderr",
     "output_type": "stream",
     "text": [
      "\r",
      "  0%|                                                    | 0/2 [00:00<?, ?it/s]"
     ]
    },
    {
     "name": "stdout",
     "output_type": "stream",
     "text": [
      "Data from data/articles_Aktualne.cz.csv successfully uploaded.\n"
     ]
    },
    {
     "name": "stderr",
     "output_type": "stream",
     "text": [
      "\r",
      " 50%|██████████████████████                      | 1/2 [00:00<00:00,  7.88it/s]"
     ]
    },
    {
     "name": "stdout",
     "output_type": "stream",
     "text": [
      "Data from data/articles_iDnes.cz.csv successfully uploaded.\n"
     ]
    },
    {
     "name": "stderr",
     "output_type": "stream",
     "text": [
      "100%|████████████████████████████████████████████| 2/2 [00:00<00:00,  7.05it/s]\n"
     ]
    },
    {
     "name": "stdout",
     "output_type": "stream",
     "text": [
      "Visualizer successfully initialized.\n"
     ]
    }
   ],
   "source": [
    "### Preparing for visualization\n",
    "# Config\n",
    "weekdays=['Monday', 'Tuesday', 'Wednesday', 'Thursday', 'Friday', 'Saturday', 'Sunday']\n",
    "\n",
    "path_aktualne = (\"aktualne\", \"data/articles_Aktualne.cz.csv\")\n",
    "path_idnes = (\"idnes\", \"data/articles_iDnes.cz.csv\")\n",
    "file_paths = [path_aktualne, path_idnes]\n",
    "\n",
    "v = Visualizer(files=file_paths, verbose=True)"
   ]
  },
  {
   "cell_type": "code",
   "execution_count": 31,
   "metadata": {},
   "outputs": [
    {
     "data": {
      "text/html": [
       "<div>\n",
       "<style scoped>\n",
       "    .dataframe tbody tr th:only-of-type {\n",
       "        vertical-align: middle;\n",
       "    }\n",
       "\n",
       "    .dataframe tbody tr th {\n",
       "        vertical-align: top;\n",
       "    }\n",
       "\n",
       "    .dataframe thead th {\n",
       "        text-align: right;\n",
       "    }\n",
       "</style>\n",
       "<table border=\"1\" class=\"dataframe\">\n",
       "  <thead>\n",
       "    <tr style=\"text-align: right;\">\n",
       "      <th></th>\n",
       "      <th>article_id</th>\n",
       "      <th>slug</th>\n",
       "      <th>date</th>\n",
       "      <th>time</th>\n",
       "      <th>is_updated</th>\n",
       "      <th>headline</th>\n",
       "      <th>excerpt</th>\n",
       "      <th>article_url</th>\n",
       "      <th>scraped_at</th>\n",
       "      <th>source</th>\n",
       "      <th>weekday</th>\n",
       "    </tr>\n",
       "  </thead>\n",
       "  <tbody>\n",
       "    <tr>\n",
       "      <td>1</td>\n",
       "      <td>r~490a15268b0911ea8972ac1f6b220ee8</td>\n",
       "      <td>celou-vec-jsem-otevrene-vysvetlil-rekl-mynar-p...</td>\n",
       "      <td>2020-04-30</td>\n",
       "      <td>20:01:00</td>\n",
       "      <td>True</td>\n",
       "      <td>Z Hradu na Kuberu tlak nebyl, celou věc jsem o...</td>\n",
       "      <td>Kancléř prezidenta Vratislav Mynář odmítl, že ...</td>\n",
       "      <td>/domaci//domaci/celou-vec-jsem-otevrene-vysvet...</td>\n",
       "      <td>03-05-2020 19:47:53</td>\n",
       "      <td>aktualne</td>\n",
       "      <td>Thursday</td>\n",
       "    </tr>\n",
       "    <tr>\n",
       "      <td>2</td>\n",
       "      <td>r~70418c3c8aff11ea842f0cc47ab5f122</td>\n",
       "      <td>vlada-schvalila-navrh-na-zruseni-dane-z-nabyti...</td>\n",
       "      <td>2020-04-30</td>\n",
       "      <td>19:54:00</td>\n",
       "      <td>True</td>\n",
       "      <td>Vláda schválila návrh na zrušení daně z nabytí...</td>\n",
       "      <td>Zároveň také prodloužila z pěti na deset let t...</td>\n",
       "      <td>/domaci//ekonomika/vlada-schvalila-navrh-na-zr...</td>\n",
       "      <td>03-05-2020 19:47:54</td>\n",
       "      <td>aktualne</td>\n",
       "      <td>Thursday</td>\n",
       "    </tr>\n",
       "    <tr>\n",
       "      <td>3</td>\n",
       "      <td>r~73da20908b0711eaa6f6ac1f6b220ee8</td>\n",
       "      <td>pametni-deska-pripominajici-vlasovce-byla-v-re...</td>\n",
       "      <td>2020-04-30</td>\n",
       "      <td>19:43:00</td>\n",
       "      <td>True</td>\n",
       "      <td>V Řeporyjích i přes ruské protesty instalovali...</td>\n",
       "      <td>Plastika zhruba velikosti dlaně zobrazuje sově...</td>\n",
       "      <td>/domaci//domaci/pametni-deska-pripominajici-vl...</td>\n",
       "      <td>03-05-2020 19:47:54</td>\n",
       "      <td>aktualne</td>\n",
       "      <td>Thursday</td>\n",
       "    </tr>\n",
       "    <tr>\n",
       "      <td>4</td>\n",
       "      <td>r~9d3006868af211eaa7deac1f6b220ee8</td>\n",
       "      <td>prezident-zeman-telefonicky-mluvil-s-cinskym-p...</td>\n",
       "      <td>2020-04-30</td>\n",
       "      <td>17:59:00</td>\n",
       "      <td>True</td>\n",
       "      <td>Prezident Zeman telefonicky mluvil s čínským p...</td>\n",
       "      <td>Český prezident potvrdil účast na summitu 17+1...</td>\n",
       "      <td>/domaci//domaci/prezident-zeman-telefonicky-ml...</td>\n",
       "      <td>03-05-2020 19:47:54</td>\n",
       "      <td>aktualne</td>\n",
       "      <td>Thursday</td>\n",
       "    </tr>\n",
       "    <tr>\n",
       "      <td>5</td>\n",
       "      <td>r~167aef8a8af611eab115ac1f6b220ee8</td>\n",
       "      <td>rousky-nebudou-muset-nosit-deti-ve-skolkach-um...</td>\n",
       "      <td>2020-04-30</td>\n",
       "      <td>17:46:00</td>\n",
       "      <td>True</td>\n",
       "      <td>Roušky nebudou muset nosit děti ve školkách, u...</td>\n",
       "      <td>Už dříve dostali výjimku řidiči veřejné doprav...</td>\n",
       "      <td>/domaci//domaci/rousky-nebudou-muset-nosit-det...</td>\n",
       "      <td>03-05-2020 19:47:54</td>\n",
       "      <td>aktualne</td>\n",
       "      <td>Thursday</td>\n",
       "    </tr>\n",
       "    <tr>\n",
       "      <td>...</td>\n",
       "      <td>...</td>\n",
       "      <td>...</td>\n",
       "      <td>...</td>\n",
       "      <td>...</td>\n",
       "      <td>...</td>\n",
       "      <td>...</td>\n",
       "      <td>...</td>\n",
       "      <td>...</td>\n",
       "      <td>...</td>\n",
       "      <td>...</td>\n",
       "      <td>...</td>\n",
       "    </tr>\n",
       "    <tr>\n",
       "      <td>3103</td>\n",
       "      <td>A200428_140551_domaci_remy</td>\n",
       "      <td>graubner-duka-ceska-biskupska-konference-zneuz...</td>\n",
       "      <td>2020-04-28</td>\n",
       "      <td>15:53:00</td>\n",
       "      <td>False</td>\n",
       "      <td>Kardinál Duka končí. V čele biskupů ho po dese...</td>\n",
       "      <td>Novým předsedou České biskupské konference se ...</td>\n",
       "      <td>https://www.idnes.cz/zpravy/domaci/graubner-du...</td>\n",
       "      <td>03-05-2020 22:40:35</td>\n",
       "      <td>idnes</td>\n",
       "      <td>Tuesday</td>\n",
       "    </tr>\n",
       "    <tr>\n",
       "      <td>3104</td>\n",
       "      <td>A200428_133040_vary-zpravy_ba</td>\n",
       "      <td>valdstejn-kun-exponat-muzeum-cheb-stehovani-va...</td>\n",
       "      <td>2020-04-28</td>\n",
       "      <td>15:35:00</td>\n",
       "      <td>False</td>\n",
       "      <td>Po lomených schodech v muzeu stěhovalo šest mu...</td>\n",
       "      <td>Výjimečný kůň Albrechta z Valdštejna, který se...</td>\n",
       "      <td>https://www.idnes.cz/karlovy-vary/zpravy/valds...</td>\n",
       "      <td>03-05-2020 22:40:35</td>\n",
       "      <td>idnes</td>\n",
       "      <td>Tuesday</td>\n",
       "    </tr>\n",
       "    <tr>\n",
       "      <td>3105</td>\n",
       "      <td>A200428_100622_domaci_lre</td>\n",
       "      <td>nemocnice-na-homolce-odmeny-pro-sestry-zadne-n...</td>\n",
       "      <td>2020-04-28</td>\n",
       "      <td>14:54:00</td>\n",
       "      <td>False</td>\n",
       "      <td>Snížíme odměny, napsal překvapeným zdravotníků...</td>\n",
       "      <td>V nemocnicích tráví dlouhé hodiny, zachraňují ...</td>\n",
       "      <td>https://www.idnes.cz/zpravy/domaci/nemocnice-n...</td>\n",
       "      <td>03-05-2020 22:40:35</td>\n",
       "      <td>idnes</td>\n",
       "      <td>Tuesday</td>\n",
       "    </tr>\n",
       "    <tr>\n",
       "      <td>3106</td>\n",
       "      <td>A200428_142241_domaci_remy</td>\n",
       "      <td>koronavirus-nouzovy-stav-hrozi-druha-vlna-epid...</td>\n",
       "      <td>2020-04-28</td>\n",
       "      <td>14:28:00</td>\n",
       "      <td>False</td>\n",
       "      <td>Bez stavu nouze hrozí druhá vlna epidemie, var...</td>\n",
       "      <td>Bez prodloužení nouzového stavu by podle praco...</td>\n",
       "      <td>https://www.idnes.cz/zpravy/domaci/koronavirus...</td>\n",
       "      <td>03-05-2020 22:40:35</td>\n",
       "      <td>idnes</td>\n",
       "      <td>Tuesday</td>\n",
       "    </tr>\n",
       "    <tr>\n",
       "      <td>3107</td>\n",
       "      <td>A200428_130400_domaci_blj</td>\n",
       "      <td>umrti-filozof-ladislav-hejdanek-92-let-disident</td>\n",
       "      <td>2020-04-28</td>\n",
       "      <td>13:32:00</td>\n",
       "      <td>False</td>\n",
       "      <td>Zemřel filozof Ladislav Hejdánek, někdejšímu d...</td>\n",
       "      <td>Zemřel filozof, publicista a někdejší mluvčí C...</td>\n",
       "      <td>https://www.idnes.cz/zpravy/domaci/umrti-filoz...</td>\n",
       "      <td>03-05-2020 22:40:35</td>\n",
       "      <td>idnes</td>\n",
       "      <td>Tuesday</td>\n",
       "    </tr>\n",
       "  </tbody>\n",
       "</table>\n",
       "<p>3063 rows × 11 columns</p>\n",
       "</div>"
      ],
      "text/plain": [
       "                              article_id  \\\n",
       "1     r~490a15268b0911ea8972ac1f6b220ee8   \n",
       "2     r~70418c3c8aff11ea842f0cc47ab5f122   \n",
       "3     r~73da20908b0711eaa6f6ac1f6b220ee8   \n",
       "4     r~9d3006868af211eaa7deac1f6b220ee8   \n",
       "5     r~167aef8a8af611eab115ac1f6b220ee8   \n",
       "...                                  ...   \n",
       "3103          A200428_140551_domaci_remy   \n",
       "3104       A200428_133040_vary-zpravy_ba   \n",
       "3105           A200428_100622_domaci_lre   \n",
       "3106          A200428_142241_domaci_remy   \n",
       "3107           A200428_130400_domaci_blj   \n",
       "\n",
       "                                                   slug       date      time  \\\n",
       "1     celou-vec-jsem-otevrene-vysvetlil-rekl-mynar-p... 2020-04-30  20:01:00   \n",
       "2     vlada-schvalila-navrh-na-zruseni-dane-z-nabyti... 2020-04-30  19:54:00   \n",
       "3     pametni-deska-pripominajici-vlasovce-byla-v-re... 2020-04-30  19:43:00   \n",
       "4     prezident-zeman-telefonicky-mluvil-s-cinskym-p... 2020-04-30  17:59:00   \n",
       "5     rousky-nebudou-muset-nosit-deti-ve-skolkach-um... 2020-04-30  17:46:00   \n",
       "...                                                 ...        ...       ...   \n",
       "3103  graubner-duka-ceska-biskupska-konference-zneuz... 2020-04-28  15:53:00   \n",
       "3104  valdstejn-kun-exponat-muzeum-cheb-stehovani-va... 2020-04-28  15:35:00   \n",
       "3105  nemocnice-na-homolce-odmeny-pro-sestry-zadne-n... 2020-04-28  14:54:00   \n",
       "3106  koronavirus-nouzovy-stav-hrozi-druha-vlna-epid... 2020-04-28  14:28:00   \n",
       "3107    umrti-filozof-ladislav-hejdanek-92-let-disident 2020-04-28  13:32:00   \n",
       "\n",
       "      is_updated                                           headline  \\\n",
       "1           True  Z Hradu na Kuberu tlak nebyl, celou věc jsem o...   \n",
       "2           True  Vláda schválila návrh na zrušení daně z nabytí...   \n",
       "3           True  V Řeporyjích i přes ruské protesty instalovali...   \n",
       "4           True  Prezident Zeman telefonicky mluvil s čínským p...   \n",
       "5           True  Roušky nebudou muset nosit děti ve školkách, u...   \n",
       "...          ...                                                ...   \n",
       "3103       False  Kardinál Duka končí. V čele biskupů ho po dese...   \n",
       "3104       False  Po lomených schodech v muzeu stěhovalo šest mu...   \n",
       "3105       False  Snížíme odměny, napsal překvapeným zdravotníků...   \n",
       "3106       False  Bez stavu nouze hrozí druhá vlna epidemie, var...   \n",
       "3107       False  Zemřel filozof Ladislav Hejdánek, někdejšímu d...   \n",
       "\n",
       "                                                excerpt  \\\n",
       "1     Kancléř prezidenta Vratislav Mynář odmítl, že ...   \n",
       "2     Zároveň také prodloužila z pěti na deset let t...   \n",
       "3     Plastika zhruba velikosti dlaně zobrazuje sově...   \n",
       "4     Český prezident potvrdil účast na summitu 17+1...   \n",
       "5     Už dříve dostali výjimku řidiči veřejné doprav...   \n",
       "...                                                 ...   \n",
       "3103  Novým předsedou České biskupské konference se ...   \n",
       "3104  Výjimečný kůň Albrechta z Valdštejna, který se...   \n",
       "3105  V nemocnicích tráví dlouhé hodiny, zachraňují ...   \n",
       "3106  Bez prodloužení nouzového stavu by podle praco...   \n",
       "3107  Zemřel filozof, publicista a někdejší mluvčí C...   \n",
       "\n",
       "                                            article_url           scraped_at  \\\n",
       "1     /domaci//domaci/celou-vec-jsem-otevrene-vysvet...  03-05-2020 19:47:53   \n",
       "2     /domaci//ekonomika/vlada-schvalila-navrh-na-zr...  03-05-2020 19:47:54   \n",
       "3     /domaci//domaci/pametni-deska-pripominajici-vl...  03-05-2020 19:47:54   \n",
       "4     /domaci//domaci/prezident-zeman-telefonicky-ml...  03-05-2020 19:47:54   \n",
       "5     /domaci//domaci/rousky-nebudou-muset-nosit-det...  03-05-2020 19:47:54   \n",
       "...                                                 ...                  ...   \n",
       "3103  https://www.idnes.cz/zpravy/domaci/graubner-du...  03-05-2020 22:40:35   \n",
       "3104  https://www.idnes.cz/karlovy-vary/zpravy/valds...  03-05-2020 22:40:35   \n",
       "3105  https://www.idnes.cz/zpravy/domaci/nemocnice-n...  03-05-2020 22:40:35   \n",
       "3106  https://www.idnes.cz/zpravy/domaci/koronavirus...  03-05-2020 22:40:35   \n",
       "3107  https://www.idnes.cz/zpravy/domaci/umrti-filoz...  03-05-2020 22:40:35   \n",
       "\n",
       "        source   weekday  \n",
       "1     aktualne  Thursday  \n",
       "2     aktualne  Thursday  \n",
       "3     aktualne  Thursday  \n",
       "4     aktualne  Thursday  \n",
       "5     aktualne  Thursday  \n",
       "...        ...       ...  \n",
       "3103     idnes   Tuesday  \n",
       "3104     idnes   Tuesday  \n",
       "3105     idnes   Tuesday  \n",
       "3106     idnes   Tuesday  \n",
       "3107     idnes   Tuesday  \n",
       "\n",
       "[3063 rows x 11 columns]"
      ]
     },
     "execution_count": 31,
     "metadata": {},
     "output_type": "execute_result"
    }
   ],
   "source": [
    "def getDay(data):\n",
    "    '''\n",
    "        Creates new column with weekday from the date\n",
    "    '''\n",
    "    \n",
    "    data = data.dropna().copy()\n",
    "    data[\"date\"] = pd.to_datetime(data[\"date\"])\n",
    "    data[\"weekday\"] = pd.Categorical(data[\"date\"].dt.day_name(), categories = weekdays, ordered = True)\n",
    "    \n",
    "\n",
    "    return data\n",
    "\n",
    "data_days = getDay(v.data)\n",
    "data_days"
   ]
  },
  {
   "cell_type": "code",
   "execution_count": 32,
   "metadata": {},
   "outputs": [],
   "source": [
    "days_count = data_days[[\"weekday\", \"source\"]].groupby([\"weekday\", \"source\"]).size()\n",
    "days_count = days_count.sort_index()"
   ]
  },
  {
   "cell_type": "code",
   "execution_count": 35,
   "metadata": {},
   "outputs": [
    {
     "data": {
      "application/vnd.plotly.v1+json": {
       "config": {
        "plotlyServerURL": "https://plot.ly"
       },
       "data": [
        {
         "name": "iDnes",
         "type": "bar",
         "x": [
          "Monday",
          "Tuesday",
          "Wednesday",
          "Thursday",
          "Friday",
          "Saturday",
          "Sunday"
         ],
         "y": [
          228,
          246,
          262,
          279,
          245,
          135,
          153
         ]
        },
        {
         "name": "Aktualne",
         "type": "bar",
         "x": [
          "Monday",
          "Tuesday",
          "Wednesday",
          "Thursday",
          "Friday",
          "Saturday",
          "Sunday"
         ],
         "y": [
          247,
          264,
          260,
          296,
          230,
          106,
          112
         ]
        }
       ],
       "layout": {
        "barmode": "stack",
        "template": {
         "data": {
          "bar": [
           {
            "error_x": {
             "color": "#2a3f5f"
            },
            "error_y": {
             "color": "#2a3f5f"
            },
            "marker": {
             "line": {
              "color": "#E5ECF6",
              "width": 0.5
             }
            },
            "type": "bar"
           }
          ],
          "barpolar": [
           {
            "marker": {
             "line": {
              "color": "#E5ECF6",
              "width": 0.5
             }
            },
            "type": "barpolar"
           }
          ],
          "carpet": [
           {
            "aaxis": {
             "endlinecolor": "#2a3f5f",
             "gridcolor": "white",
             "linecolor": "white",
             "minorgridcolor": "white",
             "startlinecolor": "#2a3f5f"
            },
            "baxis": {
             "endlinecolor": "#2a3f5f",
             "gridcolor": "white",
             "linecolor": "white",
             "minorgridcolor": "white",
             "startlinecolor": "#2a3f5f"
            },
            "type": "carpet"
           }
          ],
          "choropleth": [
           {
            "colorbar": {
             "outlinewidth": 0,
             "ticks": ""
            },
            "type": "choropleth"
           }
          ],
          "contour": [
           {
            "colorbar": {
             "outlinewidth": 0,
             "ticks": ""
            },
            "colorscale": [
             [
              0,
              "#0d0887"
             ],
             [
              0.1111111111111111,
              "#46039f"
             ],
             [
              0.2222222222222222,
              "#7201a8"
             ],
             [
              0.3333333333333333,
              "#9c179e"
             ],
             [
              0.4444444444444444,
              "#bd3786"
             ],
             [
              0.5555555555555556,
              "#d8576b"
             ],
             [
              0.6666666666666666,
              "#ed7953"
             ],
             [
              0.7777777777777778,
              "#fb9f3a"
             ],
             [
              0.8888888888888888,
              "#fdca26"
             ],
             [
              1,
              "#f0f921"
             ]
            ],
            "type": "contour"
           }
          ],
          "contourcarpet": [
           {
            "colorbar": {
             "outlinewidth": 0,
             "ticks": ""
            },
            "type": "contourcarpet"
           }
          ],
          "heatmap": [
           {
            "colorbar": {
             "outlinewidth": 0,
             "ticks": ""
            },
            "colorscale": [
             [
              0,
              "#0d0887"
             ],
             [
              0.1111111111111111,
              "#46039f"
             ],
             [
              0.2222222222222222,
              "#7201a8"
             ],
             [
              0.3333333333333333,
              "#9c179e"
             ],
             [
              0.4444444444444444,
              "#bd3786"
             ],
             [
              0.5555555555555556,
              "#d8576b"
             ],
             [
              0.6666666666666666,
              "#ed7953"
             ],
             [
              0.7777777777777778,
              "#fb9f3a"
             ],
             [
              0.8888888888888888,
              "#fdca26"
             ],
             [
              1,
              "#f0f921"
             ]
            ],
            "type": "heatmap"
           }
          ],
          "heatmapgl": [
           {
            "colorbar": {
             "outlinewidth": 0,
             "ticks": ""
            },
            "colorscale": [
             [
              0,
              "#0d0887"
             ],
             [
              0.1111111111111111,
              "#46039f"
             ],
             [
              0.2222222222222222,
              "#7201a8"
             ],
             [
              0.3333333333333333,
              "#9c179e"
             ],
             [
              0.4444444444444444,
              "#bd3786"
             ],
             [
              0.5555555555555556,
              "#d8576b"
             ],
             [
              0.6666666666666666,
              "#ed7953"
             ],
             [
              0.7777777777777778,
              "#fb9f3a"
             ],
             [
              0.8888888888888888,
              "#fdca26"
             ],
             [
              1,
              "#f0f921"
             ]
            ],
            "type": "heatmapgl"
           }
          ],
          "histogram": [
           {
            "marker": {
             "colorbar": {
              "outlinewidth": 0,
              "ticks": ""
             }
            },
            "type": "histogram"
           }
          ],
          "histogram2d": [
           {
            "colorbar": {
             "outlinewidth": 0,
             "ticks": ""
            },
            "colorscale": [
             [
              0,
              "#0d0887"
             ],
             [
              0.1111111111111111,
              "#46039f"
             ],
             [
              0.2222222222222222,
              "#7201a8"
             ],
             [
              0.3333333333333333,
              "#9c179e"
             ],
             [
              0.4444444444444444,
              "#bd3786"
             ],
             [
              0.5555555555555556,
              "#d8576b"
             ],
             [
              0.6666666666666666,
              "#ed7953"
             ],
             [
              0.7777777777777778,
              "#fb9f3a"
             ],
             [
              0.8888888888888888,
              "#fdca26"
             ],
             [
              1,
              "#f0f921"
             ]
            ],
            "type": "histogram2d"
           }
          ],
          "histogram2dcontour": [
           {
            "colorbar": {
             "outlinewidth": 0,
             "ticks": ""
            },
            "colorscale": [
             [
              0,
              "#0d0887"
             ],
             [
              0.1111111111111111,
              "#46039f"
             ],
             [
              0.2222222222222222,
              "#7201a8"
             ],
             [
              0.3333333333333333,
              "#9c179e"
             ],
             [
              0.4444444444444444,
              "#bd3786"
             ],
             [
              0.5555555555555556,
              "#d8576b"
             ],
             [
              0.6666666666666666,
              "#ed7953"
             ],
             [
              0.7777777777777778,
              "#fb9f3a"
             ],
             [
              0.8888888888888888,
              "#fdca26"
             ],
             [
              1,
              "#f0f921"
             ]
            ],
            "type": "histogram2dcontour"
           }
          ],
          "mesh3d": [
           {
            "colorbar": {
             "outlinewidth": 0,
             "ticks": ""
            },
            "type": "mesh3d"
           }
          ],
          "parcoords": [
           {
            "line": {
             "colorbar": {
              "outlinewidth": 0,
              "ticks": ""
             }
            },
            "type": "parcoords"
           }
          ],
          "pie": [
           {
            "automargin": true,
            "type": "pie"
           }
          ],
          "scatter": [
           {
            "marker": {
             "colorbar": {
              "outlinewidth": 0,
              "ticks": ""
             }
            },
            "type": "scatter"
           }
          ],
          "scatter3d": [
           {
            "line": {
             "colorbar": {
              "outlinewidth": 0,
              "ticks": ""
             }
            },
            "marker": {
             "colorbar": {
              "outlinewidth": 0,
              "ticks": ""
             }
            },
            "type": "scatter3d"
           }
          ],
          "scattercarpet": [
           {
            "marker": {
             "colorbar": {
              "outlinewidth": 0,
              "ticks": ""
             }
            },
            "type": "scattercarpet"
           }
          ],
          "scattergeo": [
           {
            "marker": {
             "colorbar": {
              "outlinewidth": 0,
              "ticks": ""
             }
            },
            "type": "scattergeo"
           }
          ],
          "scattergl": [
           {
            "marker": {
             "colorbar": {
              "outlinewidth": 0,
              "ticks": ""
             }
            },
            "type": "scattergl"
           }
          ],
          "scattermapbox": [
           {
            "marker": {
             "colorbar": {
              "outlinewidth": 0,
              "ticks": ""
             }
            },
            "type": "scattermapbox"
           }
          ],
          "scatterpolar": [
           {
            "marker": {
             "colorbar": {
              "outlinewidth": 0,
              "ticks": ""
             }
            },
            "type": "scatterpolar"
           }
          ],
          "scatterpolargl": [
           {
            "marker": {
             "colorbar": {
              "outlinewidth": 0,
              "ticks": ""
             }
            },
            "type": "scatterpolargl"
           }
          ],
          "scatterternary": [
           {
            "marker": {
             "colorbar": {
              "outlinewidth": 0,
              "ticks": ""
             }
            },
            "type": "scatterternary"
           }
          ],
          "surface": [
           {
            "colorbar": {
             "outlinewidth": 0,
             "ticks": ""
            },
            "colorscale": [
             [
              0,
              "#0d0887"
             ],
             [
              0.1111111111111111,
              "#46039f"
             ],
             [
              0.2222222222222222,
              "#7201a8"
             ],
             [
              0.3333333333333333,
              "#9c179e"
             ],
             [
              0.4444444444444444,
              "#bd3786"
             ],
             [
              0.5555555555555556,
              "#d8576b"
             ],
             [
              0.6666666666666666,
              "#ed7953"
             ],
             [
              0.7777777777777778,
              "#fb9f3a"
             ],
             [
              0.8888888888888888,
              "#fdca26"
             ],
             [
              1,
              "#f0f921"
             ]
            ],
            "type": "surface"
           }
          ],
          "table": [
           {
            "cells": {
             "fill": {
              "color": "#EBF0F8"
             },
             "line": {
              "color": "white"
             }
            },
            "header": {
             "fill": {
              "color": "#C8D4E3"
             },
             "line": {
              "color": "white"
             }
            },
            "type": "table"
           }
          ]
         },
         "layout": {
          "annotationdefaults": {
           "arrowcolor": "#2a3f5f",
           "arrowhead": 0,
           "arrowwidth": 1
          },
          "coloraxis": {
           "colorbar": {
            "outlinewidth": 0,
            "ticks": ""
           }
          },
          "colorscale": {
           "diverging": [
            [
             0,
             "#8e0152"
            ],
            [
             0.1,
             "#c51b7d"
            ],
            [
             0.2,
             "#de77ae"
            ],
            [
             0.3,
             "#f1b6da"
            ],
            [
             0.4,
             "#fde0ef"
            ],
            [
             0.5,
             "#f7f7f7"
            ],
            [
             0.6,
             "#e6f5d0"
            ],
            [
             0.7,
             "#b8e186"
            ],
            [
             0.8,
             "#7fbc41"
            ],
            [
             0.9,
             "#4d9221"
            ],
            [
             1,
             "#276419"
            ]
           ],
           "sequential": [
            [
             0,
             "#0d0887"
            ],
            [
             0.1111111111111111,
             "#46039f"
            ],
            [
             0.2222222222222222,
             "#7201a8"
            ],
            [
             0.3333333333333333,
             "#9c179e"
            ],
            [
             0.4444444444444444,
             "#bd3786"
            ],
            [
             0.5555555555555556,
             "#d8576b"
            ],
            [
             0.6666666666666666,
             "#ed7953"
            ],
            [
             0.7777777777777778,
             "#fb9f3a"
            ],
            [
             0.8888888888888888,
             "#fdca26"
            ],
            [
             1,
             "#f0f921"
            ]
           ],
           "sequentialminus": [
            [
             0,
             "#0d0887"
            ],
            [
             0.1111111111111111,
             "#46039f"
            ],
            [
             0.2222222222222222,
             "#7201a8"
            ],
            [
             0.3333333333333333,
             "#9c179e"
            ],
            [
             0.4444444444444444,
             "#bd3786"
            ],
            [
             0.5555555555555556,
             "#d8576b"
            ],
            [
             0.6666666666666666,
             "#ed7953"
            ],
            [
             0.7777777777777778,
             "#fb9f3a"
            ],
            [
             0.8888888888888888,
             "#fdca26"
            ],
            [
             1,
             "#f0f921"
            ]
           ]
          },
          "colorway": [
           "#636efa",
           "#EF553B",
           "#00cc96",
           "#ab63fa",
           "#FFA15A",
           "#19d3f3",
           "#FF6692",
           "#B6E880",
           "#FF97FF",
           "#FECB52"
          ],
          "font": {
           "color": "#2a3f5f"
          },
          "geo": {
           "bgcolor": "white",
           "lakecolor": "white",
           "landcolor": "#E5ECF6",
           "showlakes": true,
           "showland": true,
           "subunitcolor": "white"
          },
          "hoverlabel": {
           "align": "left"
          },
          "hovermode": "closest",
          "mapbox": {
           "style": "light"
          },
          "paper_bgcolor": "white",
          "plot_bgcolor": "#E5ECF6",
          "polar": {
           "angularaxis": {
            "gridcolor": "white",
            "linecolor": "white",
            "ticks": ""
           },
           "bgcolor": "#E5ECF6",
           "radialaxis": {
            "gridcolor": "white",
            "linecolor": "white",
            "ticks": ""
           }
          },
          "scene": {
           "xaxis": {
            "backgroundcolor": "#E5ECF6",
            "gridcolor": "white",
            "gridwidth": 2,
            "linecolor": "white",
            "showbackground": true,
            "ticks": "",
            "zerolinecolor": "white"
           },
           "yaxis": {
            "backgroundcolor": "#E5ECF6",
            "gridcolor": "white",
            "gridwidth": 2,
            "linecolor": "white",
            "showbackground": true,
            "ticks": "",
            "zerolinecolor": "white"
           },
           "zaxis": {
            "backgroundcolor": "#E5ECF6",
            "gridcolor": "white",
            "gridwidth": 2,
            "linecolor": "white",
            "showbackground": true,
            "ticks": "",
            "zerolinecolor": "white"
           }
          },
          "shapedefaults": {
           "line": {
            "color": "#2a3f5f"
           }
          },
          "ternary": {
           "aaxis": {
            "gridcolor": "white",
            "linecolor": "white",
            "ticks": ""
           },
           "baxis": {
            "gridcolor": "white",
            "linecolor": "white",
            "ticks": ""
           },
           "bgcolor": "#E5ECF6",
           "caxis": {
            "gridcolor": "white",
            "linecolor": "white",
            "ticks": ""
           }
          },
          "title": {
           "x": 0.05
          },
          "xaxis": {
           "automargin": true,
           "gridcolor": "white",
           "linecolor": "white",
           "ticks": "",
           "title": {
            "standoff": 15
           },
           "zerolinecolor": "white",
           "zerolinewidth": 2
          },
          "yaxis": {
           "automargin": true,
           "gridcolor": "white",
           "linecolor": "white",
           "ticks": "",
           "title": {
            "standoff": 15
           },
           "zerolinecolor": "white",
           "zerolinewidth": 2
          }
         }
        }
       }
      },
      "text/html": [
       "<div>\n",
       "        \n",
       "        \n",
       "            <div id=\"07d63dc9-f9a4-491a-a9c1-938702abfe88\" class=\"plotly-graph-div\" style=\"height:525px; width:100%;\"></div>\n",
       "            <script type=\"text/javascript\">\n",
       "                require([\"plotly\"], function(Plotly) {\n",
       "                    window.PLOTLYENV=window.PLOTLYENV || {};\n",
       "                    \n",
       "                if (document.getElementById(\"07d63dc9-f9a4-491a-a9c1-938702abfe88\")) {\n",
       "                    Plotly.newPlot(\n",
       "                        '07d63dc9-f9a4-491a-a9c1-938702abfe88',\n",
       "                        [{\"name\": \"iDnes\", \"type\": \"bar\", \"x\": [\"Monday\", \"Tuesday\", \"Wednesday\", \"Thursday\", \"Friday\", \"Saturday\", \"Sunday\"], \"y\": [228, 246, 262, 279, 245, 135, 153]}, {\"name\": \"Aktualne\", \"type\": \"bar\", \"x\": [\"Monday\", \"Tuesday\", \"Wednesday\", \"Thursday\", \"Friday\", \"Saturday\", \"Sunday\"], \"y\": [247, 264, 260, 296, 230, 106, 112]}],\n",
       "                        {\"barmode\": \"stack\", \"template\": {\"data\": {\"bar\": [{\"error_x\": {\"color\": \"#2a3f5f\"}, \"error_y\": {\"color\": \"#2a3f5f\"}, \"marker\": {\"line\": {\"color\": \"#E5ECF6\", \"width\": 0.5}}, \"type\": \"bar\"}], \"barpolar\": [{\"marker\": {\"line\": {\"color\": \"#E5ECF6\", \"width\": 0.5}}, \"type\": \"barpolar\"}], \"carpet\": [{\"aaxis\": {\"endlinecolor\": \"#2a3f5f\", \"gridcolor\": \"white\", \"linecolor\": \"white\", \"minorgridcolor\": \"white\", \"startlinecolor\": \"#2a3f5f\"}, \"baxis\": {\"endlinecolor\": \"#2a3f5f\", \"gridcolor\": \"white\", \"linecolor\": \"white\", \"minorgridcolor\": \"white\", \"startlinecolor\": \"#2a3f5f\"}, \"type\": \"carpet\"}], \"choropleth\": [{\"colorbar\": {\"outlinewidth\": 0, \"ticks\": \"\"}, \"type\": \"choropleth\"}], \"contour\": [{\"colorbar\": {\"outlinewidth\": 0, \"ticks\": \"\"}, \"colorscale\": [[0.0, \"#0d0887\"], [0.1111111111111111, \"#46039f\"], [0.2222222222222222, \"#7201a8\"], [0.3333333333333333, \"#9c179e\"], [0.4444444444444444, \"#bd3786\"], [0.5555555555555556, \"#d8576b\"], [0.6666666666666666, \"#ed7953\"], [0.7777777777777778, \"#fb9f3a\"], [0.8888888888888888, \"#fdca26\"], [1.0, \"#f0f921\"]], \"type\": \"contour\"}], \"contourcarpet\": [{\"colorbar\": {\"outlinewidth\": 0, \"ticks\": \"\"}, \"type\": \"contourcarpet\"}], \"heatmap\": [{\"colorbar\": {\"outlinewidth\": 0, \"ticks\": \"\"}, \"colorscale\": [[0.0, \"#0d0887\"], [0.1111111111111111, \"#46039f\"], [0.2222222222222222, \"#7201a8\"], [0.3333333333333333, \"#9c179e\"], [0.4444444444444444, \"#bd3786\"], [0.5555555555555556, \"#d8576b\"], [0.6666666666666666, \"#ed7953\"], [0.7777777777777778, \"#fb9f3a\"], [0.8888888888888888, \"#fdca26\"], [1.0, \"#f0f921\"]], \"type\": \"heatmap\"}], \"heatmapgl\": [{\"colorbar\": {\"outlinewidth\": 0, \"ticks\": \"\"}, \"colorscale\": [[0.0, \"#0d0887\"], [0.1111111111111111, \"#46039f\"], [0.2222222222222222, \"#7201a8\"], [0.3333333333333333, \"#9c179e\"], [0.4444444444444444, \"#bd3786\"], [0.5555555555555556, \"#d8576b\"], [0.6666666666666666, \"#ed7953\"], [0.7777777777777778, \"#fb9f3a\"], [0.8888888888888888, \"#fdca26\"], [1.0, \"#f0f921\"]], \"type\": \"heatmapgl\"}], \"histogram\": [{\"marker\": {\"colorbar\": {\"outlinewidth\": 0, \"ticks\": \"\"}}, \"type\": \"histogram\"}], \"histogram2d\": [{\"colorbar\": {\"outlinewidth\": 0, \"ticks\": \"\"}, \"colorscale\": [[0.0, \"#0d0887\"], [0.1111111111111111, \"#46039f\"], [0.2222222222222222, \"#7201a8\"], [0.3333333333333333, \"#9c179e\"], [0.4444444444444444, \"#bd3786\"], [0.5555555555555556, \"#d8576b\"], [0.6666666666666666, \"#ed7953\"], [0.7777777777777778, \"#fb9f3a\"], [0.8888888888888888, \"#fdca26\"], [1.0, \"#f0f921\"]], \"type\": \"histogram2d\"}], \"histogram2dcontour\": [{\"colorbar\": {\"outlinewidth\": 0, \"ticks\": \"\"}, \"colorscale\": [[0.0, \"#0d0887\"], [0.1111111111111111, \"#46039f\"], [0.2222222222222222, \"#7201a8\"], [0.3333333333333333, \"#9c179e\"], [0.4444444444444444, \"#bd3786\"], [0.5555555555555556, \"#d8576b\"], [0.6666666666666666, \"#ed7953\"], [0.7777777777777778, \"#fb9f3a\"], [0.8888888888888888, \"#fdca26\"], [1.0, \"#f0f921\"]], \"type\": \"histogram2dcontour\"}], \"mesh3d\": [{\"colorbar\": {\"outlinewidth\": 0, \"ticks\": \"\"}, \"type\": \"mesh3d\"}], \"parcoords\": [{\"line\": {\"colorbar\": {\"outlinewidth\": 0, \"ticks\": \"\"}}, \"type\": \"parcoords\"}], \"pie\": [{\"automargin\": true, \"type\": \"pie\"}], \"scatter\": [{\"marker\": {\"colorbar\": {\"outlinewidth\": 0, \"ticks\": \"\"}}, \"type\": \"scatter\"}], \"scatter3d\": [{\"line\": {\"colorbar\": {\"outlinewidth\": 0, \"ticks\": \"\"}}, \"marker\": {\"colorbar\": {\"outlinewidth\": 0, \"ticks\": \"\"}}, \"type\": \"scatter3d\"}], \"scattercarpet\": [{\"marker\": {\"colorbar\": {\"outlinewidth\": 0, \"ticks\": \"\"}}, \"type\": \"scattercarpet\"}], \"scattergeo\": [{\"marker\": {\"colorbar\": {\"outlinewidth\": 0, \"ticks\": \"\"}}, \"type\": \"scattergeo\"}], \"scattergl\": [{\"marker\": {\"colorbar\": {\"outlinewidth\": 0, \"ticks\": \"\"}}, \"type\": \"scattergl\"}], \"scattermapbox\": [{\"marker\": {\"colorbar\": {\"outlinewidth\": 0, \"ticks\": \"\"}}, \"type\": \"scattermapbox\"}], \"scatterpolar\": [{\"marker\": {\"colorbar\": {\"outlinewidth\": 0, \"ticks\": \"\"}}, \"type\": \"scatterpolar\"}], \"scatterpolargl\": [{\"marker\": {\"colorbar\": {\"outlinewidth\": 0, \"ticks\": \"\"}}, \"type\": \"scatterpolargl\"}], \"scatterternary\": [{\"marker\": {\"colorbar\": {\"outlinewidth\": 0, \"ticks\": \"\"}}, \"type\": \"scatterternary\"}], \"surface\": [{\"colorbar\": {\"outlinewidth\": 0, \"ticks\": \"\"}, \"colorscale\": [[0.0, \"#0d0887\"], [0.1111111111111111, \"#46039f\"], [0.2222222222222222, \"#7201a8\"], [0.3333333333333333, \"#9c179e\"], [0.4444444444444444, \"#bd3786\"], [0.5555555555555556, \"#d8576b\"], [0.6666666666666666, \"#ed7953\"], [0.7777777777777778, \"#fb9f3a\"], [0.8888888888888888, \"#fdca26\"], [1.0, \"#f0f921\"]], \"type\": \"surface\"}], \"table\": [{\"cells\": {\"fill\": {\"color\": \"#EBF0F8\"}, \"line\": {\"color\": \"white\"}}, \"header\": {\"fill\": {\"color\": \"#C8D4E3\"}, \"line\": {\"color\": \"white\"}}, \"type\": \"table\"}]}, \"layout\": {\"annotationdefaults\": {\"arrowcolor\": \"#2a3f5f\", \"arrowhead\": 0, \"arrowwidth\": 1}, \"coloraxis\": {\"colorbar\": {\"outlinewidth\": 0, \"ticks\": \"\"}}, \"colorscale\": {\"diverging\": [[0, \"#8e0152\"], [0.1, \"#c51b7d\"], [0.2, \"#de77ae\"], [0.3, \"#f1b6da\"], [0.4, \"#fde0ef\"], [0.5, \"#f7f7f7\"], [0.6, \"#e6f5d0\"], [0.7, \"#b8e186\"], [0.8, \"#7fbc41\"], [0.9, \"#4d9221\"], [1, \"#276419\"]], \"sequential\": [[0.0, \"#0d0887\"], [0.1111111111111111, \"#46039f\"], [0.2222222222222222, \"#7201a8\"], [0.3333333333333333, \"#9c179e\"], [0.4444444444444444, \"#bd3786\"], [0.5555555555555556, \"#d8576b\"], [0.6666666666666666, \"#ed7953\"], [0.7777777777777778, \"#fb9f3a\"], [0.8888888888888888, \"#fdca26\"], [1.0, \"#f0f921\"]], \"sequentialminus\": [[0.0, \"#0d0887\"], [0.1111111111111111, \"#46039f\"], [0.2222222222222222, \"#7201a8\"], [0.3333333333333333, \"#9c179e\"], [0.4444444444444444, \"#bd3786\"], [0.5555555555555556, \"#d8576b\"], [0.6666666666666666, \"#ed7953\"], [0.7777777777777778, \"#fb9f3a\"], [0.8888888888888888, \"#fdca26\"], [1.0, \"#f0f921\"]]}, \"colorway\": [\"#636efa\", \"#EF553B\", \"#00cc96\", \"#ab63fa\", \"#FFA15A\", \"#19d3f3\", \"#FF6692\", \"#B6E880\", \"#FF97FF\", \"#FECB52\"], \"font\": {\"color\": \"#2a3f5f\"}, \"geo\": {\"bgcolor\": \"white\", \"lakecolor\": \"white\", \"landcolor\": \"#E5ECF6\", \"showlakes\": true, \"showland\": true, \"subunitcolor\": \"white\"}, \"hoverlabel\": {\"align\": \"left\"}, \"hovermode\": \"closest\", \"mapbox\": {\"style\": \"light\"}, \"paper_bgcolor\": \"white\", \"plot_bgcolor\": \"#E5ECF6\", \"polar\": {\"angularaxis\": {\"gridcolor\": \"white\", \"linecolor\": \"white\", \"ticks\": \"\"}, \"bgcolor\": \"#E5ECF6\", \"radialaxis\": {\"gridcolor\": \"white\", \"linecolor\": \"white\", \"ticks\": \"\"}}, \"scene\": {\"xaxis\": {\"backgroundcolor\": \"#E5ECF6\", \"gridcolor\": \"white\", \"gridwidth\": 2, \"linecolor\": \"white\", \"showbackground\": true, \"ticks\": \"\", \"zerolinecolor\": \"white\"}, \"yaxis\": {\"backgroundcolor\": \"#E5ECF6\", \"gridcolor\": \"white\", \"gridwidth\": 2, \"linecolor\": \"white\", \"showbackground\": true, \"ticks\": \"\", \"zerolinecolor\": \"white\"}, \"zaxis\": {\"backgroundcolor\": \"#E5ECF6\", \"gridcolor\": \"white\", \"gridwidth\": 2, \"linecolor\": \"white\", \"showbackground\": true, \"ticks\": \"\", \"zerolinecolor\": \"white\"}}, \"shapedefaults\": {\"line\": {\"color\": \"#2a3f5f\"}}, \"ternary\": {\"aaxis\": {\"gridcolor\": \"white\", \"linecolor\": \"white\", \"ticks\": \"\"}, \"baxis\": {\"gridcolor\": \"white\", \"linecolor\": \"white\", \"ticks\": \"\"}, \"bgcolor\": \"#E5ECF6\", \"caxis\": {\"gridcolor\": \"white\", \"linecolor\": \"white\", \"ticks\": \"\"}}, \"title\": {\"x\": 0.05}, \"xaxis\": {\"automargin\": true, \"gridcolor\": \"white\", \"linecolor\": \"white\", \"ticks\": \"\", \"title\": {\"standoff\": 15}, \"zerolinecolor\": \"white\", \"zerolinewidth\": 2}, \"yaxis\": {\"automargin\": true, \"gridcolor\": \"white\", \"linecolor\": \"white\", \"ticks\": \"\", \"title\": {\"standoff\": 15}, \"zerolinecolor\": \"white\", \"zerolinewidth\": 2}}}},\n",
       "                        {\"responsive\": true}\n",
       "                    ).then(function(){\n",
       "                            \n",
       "var gd = document.getElementById('07d63dc9-f9a4-491a-a9c1-938702abfe88');\n",
       "var x = new MutationObserver(function (mutations, observer) {{\n",
       "        var display = window.getComputedStyle(gd).display;\n",
       "        if (!display || display === 'none') {{\n",
       "            console.log([gd, 'removed!']);\n",
       "            Plotly.purge(gd);\n",
       "            observer.disconnect();\n",
       "        }}\n",
       "}});\n",
       "\n",
       "// Listen for the removal of the full notebook cells\n",
       "var notebookContainer = gd.closest('#notebook-container');\n",
       "if (notebookContainer) {{\n",
       "    x.observe(notebookContainer, {childList: true});\n",
       "}}\n",
       "\n",
       "// Listen for the clearing of the current output cell\n",
       "var outputEl = gd.closest('.output');\n",
       "if (outputEl) {{\n",
       "    x.observe(outputEl, {childList: true});\n",
       "}}\n",
       "\n",
       "                        })\n",
       "                };\n",
       "                });\n",
       "            </script>\n",
       "        </div>"
      ]
     },
     "metadata": {},
     "output_type": "display_data"
    }
   ],
   "source": [
    "fig1 = go.Figure(data=[\n",
    "    go.Bar(name='iDnes.cz', x=weekdays, y=days_count.xs(\"idnes\", level=1)),\n",
    "    go.Bar(name='Aktualne.cz', x=weekdays, y=days_count.xs(\"aktualne\", level=1))\n",
    "])\n",
    "# Change the bar mode\n",
    "fig1.update_layout(barmode='stack')\n",
    "fig1.show()"
   ]
  },
  {
   "cell_type": "code",
   "execution_count": 25,
   "metadata": {},
   "outputs": [
    {
     "data": {
      "text/plain": [
       "weekday    source  \n",
       "Monday     aktualne    247\n",
       "           idnes       228\n",
       "Tuesday    aktualne    264\n",
       "           idnes       246\n",
       "Wednesday  aktualne    260\n",
       "           idnes       262\n",
       "Thursday   aktualne    296\n",
       "           idnes       279\n",
       "Friday     aktualne    230\n",
       "           idnes       245\n",
       "Saturday   aktualne    106\n",
       "           idnes       135\n",
       "Sunday     aktualne    112\n",
       "           idnes       153\n",
       "dtype: int64"
      ]
     },
     "execution_count": 25,
     "metadata": {},
     "output_type": "execute_result"
    }
   ],
   "source": [
    "days_count.sort_index()"
   ]
  },
  {
   "cell_type": "code",
   "execution_count": null,
   "metadata": {},
   "outputs": [],
   "source": []
  }
 ],
 "metadata": {
  "kernelspec": {
   "display_name": "Python 3",
   "language": "python",
   "name": "python3"
  },
  "language_info": {
   "codemirror_mode": {
    "name": "ipython",
    "version": 3
   },
   "file_extension": ".py",
   "mimetype": "text/x-python",
   "name": "python",
   "nbconvert_exporter": "python",
   "pygments_lexer": "ipython3",
   "version": "3.7.4"
  }
 },
 "nbformat": 4,
 "nbformat_minor": 2
}
